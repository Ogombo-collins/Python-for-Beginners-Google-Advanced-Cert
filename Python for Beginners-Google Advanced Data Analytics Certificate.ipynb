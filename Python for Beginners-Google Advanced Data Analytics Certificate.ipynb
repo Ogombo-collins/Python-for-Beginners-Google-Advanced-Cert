{
 "cells": [
  {
   "cell_type": "markdown",
   "id": "500c1f2e",
   "metadata": {},
   "source": [
    "# Python for Beginners Course by Google Advanced Data Analytics Certificate\n"
   ]
  },
  {
   "cell_type": "markdown",
   "id": "2b1566b0",
   "metadata": {},
   "source": [
    "## General Preview of Course Code Snippets"
   ]
  },
  {
   "cell_type": "code",
   "execution_count": 1,
   "id": "7532a769",
   "metadata": {},
   "outputs": [],
   "source": [
    "#Define a function\n",
    "def is_adult(age):\n",
    "    if age >= 18:\n",
    "        print(\"adult\")\n",
    "    else:\n",
    "        print(\"minor\")"
   ]
  },
  {
   "cell_type": "code",
   "execution_count": 2,
   "id": "f27c355c",
   "metadata": {},
   "outputs": [
    {
     "name": "stdout",
     "output_type": "stream",
     "text": [
      "adult\n"
     ]
    }
   ],
   "source": [
    "#use is_adult function\n",
    "age = 40\n",
    "age2 = 17\n",
    "is_adult(age)"
   ]
  },
  {
   "cell_type": "code",
   "execution_count": 3,
   "id": "392d2617",
   "metadata": {},
   "outputs": [
    {
     "name": "stdout",
     "output_type": "stream",
     "text": [
      "minor\n"
     ]
    }
   ],
   "source": [
    "is_adult(age2)"
   ]
  },
  {
   "cell_type": "markdown",
   "id": "d2ab8bf9",
   "metadata": {},
   "source": [
    "## Jupyter Notebook\n",
    "It is an open source web application for creating and sharing documents containing live code, math formulas, visualizations and text.\n",
    "\n",
    "Notebooks enable data professionals collaborate on data projects and integrate code."
   ]
  },
  {
   "cell_type": "markdown",
   "id": "b80aca4e",
   "metadata": {},
   "source": [
    "## Object-Oriented Programming(OOP)\n",
    "Object-oriented programming is a programming system that's based on objects, which can contain both data and code that manipulates the aformentioned data.\n",
    "\n",
    "The main rationale behind OOP entails having both data and the **methods** that manipulate it within objects, allowing for more organized, accessible and reusbale code.\n",
    "\n",
    "An **Object** is an instance of a class. An object is a fundamental building block of Python programming language.\n",
    "\n",
    "A class is the most significant concept of OOP is the class.\n",
    "A **class** is an object's data type that bundles data and functionality together.\n",
    "\n",
    "The functionality is described by methods that affect the way data stored in a class behaves when an instnce of the class is created(Object).\n",
    "\n",
    "**Methods** are functions that belong to a class and typically perform an action or operation."
   ]
  },
  {
   "cell_type": "code",
   "execution_count": 4,
   "id": "588207ca",
   "metadata": {},
   "outputs": [
    {
     "name": "stdout",
     "output_type": "stream",
     "text": [
      "<class 'str'>\n"
     ]
    }
   ],
   "source": [
    "#Demonstrating a variable(object) belonging to string class, and impact of methods on it\n",
    "magic = \"HOCUS POCUS\"\n",
    "magic\n",
    "print(type(magic))"
   ]
  },
  {
   "cell_type": "code",
   "execution_count": 5,
   "id": "19a6d1ad",
   "metadata": {},
   "outputs": [
    {
     "data": {
      "text/plain": [
       "'hocus pocus'"
      ]
     },
     "execution_count": 5,
     "metadata": {},
     "output_type": "execute_result"
    }
   ],
   "source": [
    "#using built-in functilaities of string class to chenge behavior of the object created above-magic\n",
    "magic = magic.swapcase()\n",
    "magic"
   ]
  },
  {
   "cell_type": "code",
   "execution_count": 6,
   "id": "02b67195",
   "metadata": {},
   "outputs": [
    {
     "data": {
      "text/plain": [
       "'hokey pokey'"
      ]
     },
     "execution_count": 6,
     "metadata": {},
     "output_type": "execute_result"
    }
   ],
   "source": [
    "#replace some characters in magic \n",
    "magic = magic.replace('cus', 'key')\n",
    "magic"
   ]
  },
  {
   "cell_type": "markdown",
   "id": "cf19295d",
   "metadata": {},
   "source": [
    "## Dot Notation System\n",
    "System of accessing methods and attributes of an instance of a class.\n",
    "As depicted by the:\n",
    "- swapcase\n",
    "- replace\n",
    "\n",
    "Applied on magic variable, an instance of string class."
   ]
  },
  {
   "cell_type": "markdown",
   "id": "0fad95b5",
   "metadata": {},
   "source": [
    "## Core Python Classes\n",
    "The main Python classes include:\n",
    " - Floats\n",
    " - Strings\n",
    " - Integers\n",
    " - Booleans\n",
    " - Lists\n",
    " - Dictionaries\n",
    " - Tuples\n",
    " - Lists\n",
    " - Sets\n",
    " - Frozensets\n",
    " - Functions\n",
    " - Ranges \n",
    " - None"
   ]
  },
  {
   "cell_type": "markdown",
   "id": "1fd1d4e9",
   "metadata": {},
   "source": [
    "## Variables\n",
    "Variables give meaning to code. They are analogous to nouns.\n",
    "\n",
    "They point to values. You can also view them as containers that store values of an object.\n",
    "\n",
    "For example the variable **magic**,  stored the string value, \"HOCUS POCUS\"\n",
    "\n",
    "When creating meaningful variables that are easy to reference at a later time, certain variable algorithim questions should be considered:\n",
    "\n",
    "1. What's the variable's name?\n",
    "2. What's the variable's type?\n",
    "3. What's the variable's starting value?\n",
    "\n",
    "Naming variable is important for yourself and other who will review your code. By naming varaibles, you remind yourseld what data type the variable holds, thus what specific operations would be applicable to that data value."
   ]
  },
  {
   "cell_type": "markdown",
   "id": "09e87131",
   "metadata": {},
   "source": [
    "## Assignment and Expression\n",
    "Assigining expressions makes your code more concise.\n",
    "\n",
    "**Assignment**: The process of storing a value in a variable.\n",
    "\n",
    "**Expression**: A combination of numbers, symbols, or other variables that produce a result when evaluated.\n",
    "\n"
   ]
  },
  {
   "cell_type": "code",
   "execution_count": 7,
   "id": "51580f00",
   "metadata": {},
   "outputs": [
    {
     "data": {
      "text/plain": [
       "[22, 24, 26, 28, 34]"
      ]
     },
     "execution_count": 7,
     "metadata": {},
     "output_type": "execute_result"
    }
   ],
   "source": [
    "#Assign ages of 5 professional football players in EPL to a list\n",
    "Players_age = [22, 24, 26, 28, 34]\n",
    "Players_age"
   ]
  },
  {
   "cell_type": "code",
   "execution_count": 8,
   "id": "57e72255",
   "metadata": {},
   "outputs": [
    {
     "data": {
      "text/plain": [
       "34"
      ]
     },
     "execution_count": 8,
     "metadata": {},
     "output_type": "execute_result"
    }
   ],
   "source": [
    "#Assign maximum age of Players_age list to a new variable called: max_age\n",
    "max_age = max(Players_age)\n",
    "max_age"
   ]
  },
  {
   "cell_type": "code",
   "execution_count": 9,
   "id": "61cd7dff",
   "metadata": {},
   "outputs": [
    {
     "data": {
      "text/plain": [
       "int"
      ]
     },
     "execution_count": 9,
     "metadata": {},
     "output_type": "execute_result"
    }
   ],
   "source": [
    "#check data type of max_age\n",
    "type(max_age)"
   ]
  },
  {
   "cell_type": "code",
   "execution_count": 10,
   "id": "5c0b4bb7",
   "metadata": {},
   "outputs": [
    {
     "data": {
      "text/plain": [
       "'34'"
      ]
     },
     "execution_count": 10,
     "metadata": {},
     "output_type": "execute_result"
    }
   ],
   "source": [
    "#we can reassign the data type of max_age from integer to string by convert max_age variable to string data type\n",
    "max_age = str(max_age)\n",
    "max_age"
   ]
  },
  {
   "cell_type": "code",
   "execution_count": 11,
   "id": "700c502d",
   "metadata": {},
   "outputs": [
    {
     "data": {
      "text/plain": [
       "'ninety nine'"
      ]
     },
     "execution_count": 11,
     "metadata": {},
     "output_type": "execute_result"
    }
   ],
   "source": [
    "#We cam also reassogn the value of max_age\n",
    "max_age = 'ninety nine'\n",
    "max_age"
   ]
  },
  {
   "cell_type": "markdown",
   "id": "04f47d47",
   "metadata": {},
   "source": [
    "## Naming Restrictions for Variables\n",
    "1. Variables can only include letters,numbers and underscores\n",
    "2. Must start with a letter of underscore\n",
    "3. Keywords should never be used in naming variables. Keywords are special words reserved for special purposes in Python\n",
    "4. Python is Case-sensitive; capiatlization matters when naming variables. For example, **Great** and **great** are two different variables.\n",
    "5. Variables cannot include parenthesis"
   ]
  },
  {
   "cell_type": "markdown",
   "id": "a5ff4789",
   "metadata": {},
   "source": [
    "## Functions\n",
    "\n",
    "A **Function** is a body of reusable code for performing specific processes or tasks.\n",
    "Several built-in functions in Python that we have used include:\n",
    "- type(): tells us the data type contained in a variable.\n",
    "- print(): writes text on the screen\n",
    "- str(): converts an object into a string\n",
    "\n",
    "Besides using Python's built-in functions, we can customize our own functions that accept certain inputs and produce output.\n",
    "\n",
    "To define our own function, keyword ***def** is used at the start of the function block."
   ]
  },
  {
   "cell_type": "code",
   "execution_count": 12,
   "id": "61a4b84b",
   "metadata": {},
   "outputs": [],
   "source": [
    "#create a function welcoming tourists to Kenya\n",
    "def jambo(name):\n",
    "    print(\"Jambo\" + \"!\" +\" \" + name + \" \" \"Karibu Kenya\")\n",
    "    print(\"Hakuna Matata\")\n",
    "    \n",
    "    \n"
   ]
  },
  {
   "cell_type": "code",
   "execution_count": 13,
   "id": "8d5236ff",
   "metadata": {},
   "outputs": [
    {
     "name": "stdout",
     "output_type": "stream",
     "text": [
      "Jambo! Bill Karibu Kenya\n",
      "Hakuna Matata\n"
     ]
    }
   ],
   "source": [
    "jambo(\"Bill\") #application of the function"
   ]
  },
  {
   "cell_type": "markdown",
   "id": "0987b5cd",
   "metadata": {},
   "source": [
    "There are many things we can use to extract value from defined functions.\n",
    "For exampke we would want to get values out of a funtion.\n",
    "\n",
    "**return** keyword makes a function produce new results, that are saved for later use."
   ]
  },
  {
   "cell_type": "code",
   "execution_count": 14,
   "id": "e0eae6f0",
   "metadata": {},
   "outputs": [],
   "source": [
    "#defined function that returns values\n",
    "def area_triangle(base, height):\n",
    "    area = base * height / 2\n",
    "    return area"
   ]
  },
  {
   "cell_type": "code",
   "execution_count": 15,
   "id": "6e25e522",
   "metadata": {},
   "outputs": [
    {
     "data": {
      "text/plain": [
       "30.0"
      ]
     },
     "execution_count": 15,
     "metadata": {},
     "output_type": "execute_result"
    }
   ],
   "source": [
    "#compute area of triangle\n",
    "triangle_a = area_triangle(10, 6)\n",
    "triangle_a"
   ]
  },
  {
   "cell_type": "markdown",
   "id": "1f4f006e",
   "metadata": {},
   "source": [
    "## Reusability\n",
    "Custom-defined functions form part of core elements of code reusability.\n",
    "\n",
    "**Reusability** entails defining code once and using it many times without having to rewrite it."
   ]
  },
  {
   "cell_type": "code",
   "execution_count": 16,
   "id": "1b749bbd",
   "metadata": {},
   "outputs": [],
   "source": [
    "#define function that computes time in seconds\n",
    "def get_seconds(hours, minutes, seconds):\n",
    "    total_seconds = 3600 * hours + 60 * minutes + seconds\n",
    "    return total_seconds"
   ]
  },
  {
   "cell_type": "code",
   "execution_count": 17,
   "id": "1792c148",
   "metadata": {},
   "outputs": [
    {
     "data": {
      "text/plain": [
       "67230"
      ]
     },
     "execution_count": 17,
     "metadata": {},
     "output_type": "execute_result"
    }
   ],
   "source": [
    "#compute 18hrs, 40 mins and 30 seconds in seconds\n",
    "seconds = get_seconds(18, 40, 30)\n",
    "seconds"
   ]
  },
  {
   "cell_type": "markdown",
   "id": "0f1b16be",
   "metadata": {},
   "source": [
    "Let's review the code below, and see where modular code involving writing reusable code can be applied.\n",
    "The goal is reducing code duplication  by using functions."
   ]
  },
  {
   "cell_type": "code",
   "execution_count": 18,
   "id": "44ca3f9d",
   "metadata": {},
   "outputs": [
    {
     "name": "stdout",
     "output_type": "stream",
     "text": [
      "Hello Ogombo. Your lucky number is 60\n",
      "Hello Asega. Your lucky number is 50\n"
     ]
    }
   ],
   "source": [
    "name = \"Ogombo\"\n",
    "number = len(name)* 10\n",
    "print(\"Hello \" + name + \". Your lucky number is \" + str(number)) # line similar to the code below\n",
    "\n",
    "name = \"Asega\"\n",
    "number = len(name)* 10\n",
    "print(\"Hello \" + name + \". Your lucky number is \" + str(number)) #similar to the code above\n"
   ]
  },
  {
   "cell_type": "code",
   "execution_count": 19,
   "id": "ef311423",
   "metadata": {},
   "outputs": [
    {
     "name": "stdout",
     "output_type": "stream",
     "text": [
      "Hello Matrix. Your lucky number is 60\n",
      "Hello Daredevil. Your lucky number is 90\n"
     ]
    }
   ],
   "source": [
    "#write a function that groups duplicated code into one line\n",
    "def lucky_number(name):\n",
    "    number = len(name) * 10\n",
    "    print(\"Hello \" + name + \". Your lucky number is \" + str(number))\n",
    "    \n",
    "#use fucntion on two new names\n",
    "lucky_number(\"Matrix\")\n",
    "lucky_number(\"Daredevil\")\n",
    "\n"
   ]
  },
  {
   "cell_type": "markdown",
   "id": "088ef241",
   "metadata": {},
   "source": [
    "## Modularity\n",
    "Modularity refers to ability to write code in seperate components that work together and that can be reused for other programs."
   ]
  },
  {
   "cell_type": "markdown",
   "id": "e188f178",
   "metadata": {},
   "source": [
    "## Refactoring\n",
    "Refactoring is the process of restructuring code while maintaining its original functionality. \n",
    "\n",
    "The goal of refactoring involves creating self-documenting code. Self-documenting code is code written in a way that is readable and makes its purpose clear.\n",
    "\n",
    "### Comments\n",
    "Helpful suplemental explaination of the code."
   ]
  },
  {
   "cell_type": "code",
   "execution_count": 20,
   "id": "76af86b4",
   "metadata": {},
   "outputs": [
    {
     "name": "stdout",
     "output_type": "stream",
     "text": [
      "4\n",
      "24\n"
     ]
    }
   ],
   "source": [
    "# Function takes an integer as input and returns its factorial\n",
    "def factorial(n):\n",
    "    #Exclude 0 as a prouct, start with 1\n",
    "    y = 1\n",
    "    for i in range(int(n)):\n",
    "        y = y*(i + 1)\n",
    "    return y\n",
    "\n",
    "# Enter a numerical value between 1-9 in the command line that appears\n",
    "input_num = input() \n",
    "\n",
    "# Apply factorial function to an integer input\n",
    "print(factorial(input_num))"
   ]
  },
  {
   "cell_type": "markdown",
   "id": "ce19c731",
   "metadata": {},
   "source": [
    "## Writing Algorithimic Code\n",
    "\n",
    "An *Algorithim* is a set of instructions that solve a problem or execute a task.\n",
    "\n",
    "At the heart of any hardware or software architecture is an algorithim that provides logic to the computer on how to execute tasks.\n",
    "\n",
    "Using comments as a blue print for building algorithimc code improves the fow of executing a complex algorithim.\n",
    "\n",
    "If you were to build a complex function, breaking it into small, simple pieces would enable you to tackle a problem that is to be solved by the function."
   ]
  },
  {
   "cell_type": "markdown",
   "id": "b69b499d",
   "metadata": {},
   "source": [
    "## Docstring\n",
    "\n",
    "Docstring is a string at the beginning of a function's body that summarizes the function's behavior and explain its arguments and return values."
   ]
  },
  {
   "cell_type": "code",
   "execution_count": 21,
   "id": "80914a09",
   "metadata": {},
   "outputs": [],
   "source": [
    "#function for computing profit_margin\n",
    "\n",
    "def profit_margin(net_profit, revenue):\n",
    "    \"\"\" \n",
    "    Calculate the profit margin earned by a company.\n",
    "    \n",
    "        Parameters:\n",
    "            net_profit(float): net earnings generated by a company in dollars\n",
    "            revenue(float): sales earned by a company in dollars\n",
    "        Returns:\n",
    "            profit_margin(float): profit_margin represented as (net_profit / revenue) in percentage, rounded off to 2 decimal places.\n",
    "    \n",
    "    \"\"\"\n",
    "    profit_margin = round(float(net_profit) / float(revenue), 2)\n",
    "    return profit_margin"
   ]
  },
  {
   "cell_type": "code",
   "execution_count": 22,
   "id": "957d773a",
   "metadata": {},
   "outputs": [
    {
     "data": {
      "text/plain": [
       "0.1"
      ]
     },
     "execution_count": 22,
     "metadata": {},
     "output_type": "execute_result"
    }
   ],
   "source": [
    "net_profit = 2000\n",
    "revenue = 20000\n",
    "earnings_margin = profit_margin(net_profit, revenue)\n",
    "earnings_margin"
   ]
  },
  {
   "cell_type": "code",
   "execution_count": 23,
   "id": "4729a26b",
   "metadata": {},
   "outputs": [
    {
     "name": "stdout",
     "output_type": "stream",
     "text": [
      "Help on function profit_margin in module __main__:\n",
      "\n",
      "profit_margin(net_profit, revenue)\n",
      "    Calculate the profit margin earned by a company.\n",
      "    \n",
      "        Parameters:\n",
      "            net_profit(float): net earnings generated by a company in dollars\n",
      "            revenue(float): sales earned by a company in dollars\n",
      "        Returns:\n",
      "            profit_margin(float): profit_margin represented as (net_profit / revenue) in percentage, rounded off to 2 decimal places.\n",
      "\n"
     ]
    }
   ],
   "source": [
    "#check documetation of profit_margin function\n",
    "help(profit_margin)"
   ]
  },
  {
   "cell_type": "markdown",
   "id": "8c3f7d3a",
   "metadata": {},
   "source": [
    "## Comparison Operators\n",
    "Comparison operators  are operators that compare two values and produce boolean values(**True** or **False**).\n",
    "\n",
    "Types of Comparators(comparison operators) in Python include:\n",
    "- Greater than: >\n",
    "- Greater than or equal to: >=\n",
    "- Less than: <\n",
    "- Less than or equal to: <=\n",
    "- Equal to: ==\n",
    "- Not equal to: !="
   ]
  },
  {
   "cell_type": "code",
   "execution_count": 24,
   "id": "bda3677d",
   "metadata": {},
   "outputs": [
    {
     "data": {
      "text/plain": [
       "True"
      ]
     },
     "execution_count": 24,
     "metadata": {},
     "output_type": "execute_result"
    }
   ],
   "source": [
    "30 > 1"
   ]
  },
  {
   "cell_type": "code",
   "execution_count": 25,
   "id": "886f4989",
   "metadata": {},
   "outputs": [
    {
     "data": {
      "text/plain": [
       "False"
      ]
     },
     "execution_count": 25,
     "metadata": {},
     "output_type": "execute_result"
    }
   ],
   "source": [
    "50 < 49.9"
   ]
  },
  {
   "cell_type": "code",
   "execution_count": 26,
   "id": "6ea91de3",
   "metadata": {},
   "outputs": [
    {
     "name": "stdout",
     "output_type": "stream",
     "text": [
      "False\n"
     ]
    }
   ],
   "source": [
    "print(\"cat\" == \"Elephant\")"
   ]
  },
  {
   "cell_type": "markdown",
   "id": "5a1faa43",
   "metadata": {},
   "source": [
    "## Logical Operators\n",
    "Operators that connect multiple statements together and perform more complex operations.\n",
    "\n",
    "Types of Logical operators in Python include:\n",
    "- and : Both expression of operation to be true to return a **True** result\n",
    "- or  : Expression will be true if either of the expression is **True**, and **False** only whe both expressions are **False**.\n",
    "- not : Inverts the value of the expression that follow it. If its true, it becomes false and vice versa."
   ]
  },
  {
   "cell_type": "code",
   "execution_count": 27,
   "id": "0dc13e87",
   "metadata": {},
   "outputs": [
    {
     "name": "stdout",
     "output_type": "stream",
     "text": [
      "False\n",
      "True\n"
     ]
    }
   ],
   "source": [
    "#evaluate and operator\n",
    "expression = 20 < 4 and 40 > 20\n",
    "print(expression)\n",
    "\n",
    "expression2 = \"cat\" < \"dog\" and \"egg\" > \"ant\"\n",
    "print(expression2)"
   ]
  },
  {
   "cell_type": "code",
   "execution_count": 28,
   "id": "d92127b8",
   "metadata": {},
   "outputs": [
    {
     "name": "stdout",
     "output_type": "stream",
     "text": [
      "True\n"
     ]
    }
   ],
   "source": [
    "#evaluate or operator\n",
    "expression3 = 20 < 4 or 40 > 20\n",
    "print(expression3)"
   ]
  },
  {
   "cell_type": "code",
   "execution_count": 29,
   "id": "2f8dd923",
   "metadata": {},
   "outputs": [
    {
     "name": "stdout",
     "output_type": "stream",
     "text": [
      "True\n"
     ]
    }
   ],
   "source": [
    "#evaluate not operator\n",
    "print(not 100 > 1000)"
   ]
  },
  {
   "cell_type": "markdown",
   "id": "4eb342a1",
   "metadata": {},
   "source": [
    "## Branching/ Control Structures\n",
    "\n",
    "Branching refers to the ability of a program to alter its execution sequence.\n",
    "Branching uses **if** statements based on certain conditions\n",
    "\n",
    "**if** is a reserved keyword that sets up a condition in Python.\n",
    "\n",
    "The if statement is usually bundled with **else** statement.\n",
    "\n",
    "**else** is a reserved keyword that executes when preceding conditions (of if statemnt) evaluate as False.\n"
   ]
  },
  {
   "cell_type": "code",
   "execution_count": 30,
   "id": "02e9eaf6",
   "metadata": {},
   "outputs": [],
   "source": [
    "#create a function that aunthenticates valid username by restricting it to eight characters.\n",
    "def hint_username(username):\n",
    "    if len(username) < 8:\n",
    "        print(\"Invalid username. Must be at least 8 characters long.\")\n",
    "    else:\n",
    "        print(\"Valid Username. \")"
   ]
  },
  {
   "cell_type": "code",
   "execution_count": 31,
   "id": "d7fd99e0",
   "metadata": {},
   "outputs": [
    {
     "name": "stdout",
     "output_type": "stream",
     "text": [
      "Invalid username. Must be at least 8 characters long.\n"
     ]
    }
   ],
   "source": [
    "user = \"collins\"\n",
    "hint_username(user)"
   ]
  },
  {
   "cell_type": "code",
   "execution_count": 32,
   "id": "7eb0ecc1",
   "metadata": {},
   "outputs": [
    {
     "data": {
      "text/plain": [
       "0"
      ]
     },
     "execution_count": 32,
     "metadata": {},
     "output_type": "execute_result"
    }
   ],
   "source": [
    "10 % 2\n"
   ]
  },
  {
   "cell_type": "markdown",
   "id": "8ac7dda1",
   "metadata": {},
   "source": [
    "## Loops\n",
    "\n",
    "Loops are used to automate repetitive tasks in Python.\n",
    "\n",
    "Loops automatically repeat a portion of code until a process is complete.\n",
    "\n",
    "In a nutshell, a **loop** is a block of code used to carry out interations.\n",
    "\n",
    "**Iterable**: object that's looped, or, interated over. It can be a string, list, dictionary etc.\n",
    "\n",
    "Data professionals use **while loops** and **for loops** to iterate iterables.\n",
    "\n",
    "**while loops**: a loop that commands your computer to continously execute your code based on the value of a condition.\n",
    "\n",
    "A **for loop**: piece of codes that interates over a sequence of values(iterable)."
   ]
  },
  {
   "cell_type": "code",
   "execution_count": 33,
   "id": "b3a6b271",
   "metadata": {},
   "outputs": [
    {
     "name": "stdout",
     "output_type": "stream",
     "text": [
      "value of y is 0\n",
      "value of y is 1\n",
      "value of y is 2\n",
      "value of y is 3\n",
      "4\n"
     ]
    }
   ],
   "source": [
    "# while loop example\n",
    "y = 0\n",
    "while y < 4:\n",
    "    print(\"value of y is \" + str(y))\n",
    "    y = y + 1\n",
    "    \n",
    "print(y)"
   ]
  },
  {
   "cell_type": "code",
   "execution_count": 34,
   "id": "add03e8e",
   "metadata": {},
   "outputs": [
    {
     "name": "stdout",
     "output_type": "stream",
     "text": [
      "0\n",
      "1\n",
      "2\n",
      "3\n",
      "4\n",
      "5\n"
     ]
    }
   ],
   "source": [
    "# for loop example\n",
    "for n in range(6):\n",
    "    print(n)"
   ]
  },
  {
   "cell_type": "code",
   "execution_count": 35,
   "id": "11fd8afd",
   "metadata": {},
   "outputs": [
    {
     "name": "stdout",
     "output_type": "stream",
     "text": [
      "362880\n"
     ]
    }
   ],
   "source": [
    "#factorial of nine using for loops\n",
    "product = 1\n",
    "for n in range(1, 10):\n",
    "    product = product * n\n",
    "\n",
    "print(product)"
   ]
  },
  {
   "cell_type": "markdown",
   "id": "8f6e5eb7",
   "metadata": {},
   "source": [
    "## Data Types in Python\n",
    "\n",
    "###  Strings\n",
    "Strings are a sequence of characters and puntuations that contain textual information.\n",
    "\n",
    "Strings are immutable data structures in python usually presented as characters in quotes.\n",
    " \n",
    "They can be concatenated and multiplied.\n",
    "\n",
    "**Escape character**: represented as \\, it's a character that changes the typical behaviour of the characters that follow it."
   ]
  },
  {
   "cell_type": "code",
   "execution_count": 36,
   "id": "541b512c",
   "metadata": {},
   "outputs": [
    {
     "name": "stdout",
     "output_type": "stream",
     "text": [
      "Black Panther Forever was releases in 2023. It was a mega hit, grossing over a billion dollars.\n"
     ]
    }
   ],
   "source": [
    "#concatenation of strings\n",
    "\n",
    "movie = \"Black Panther Forever\"\n",
    "\n",
    "release = \" was releases in 2023. It was a mega hit, grossing over a billion dollars.\"\n",
    "\n",
    "movie_release = movie + release\n",
    "print(movie_release)"
   ]
  },
  {
   "cell_type": "code",
   "execution_count": 37,
   "id": "430953ce",
   "metadata": {},
   "outputs": [
    {
     "data": {
      "text/plain": [
       "'OMG OMG OMG '"
      ]
     },
     "execution_count": 37,
     "metadata": {},
     "output_type": "execute_result"
    }
   ],
   "source": [
    "#multiplication of strings\n",
    "movie_release_perception = \"OMG \"\n",
    "movie_release_perception * 3"
   ]
  },
  {
   "cell_type": "code",
   "execution_count": 38,
   "id": "0b58e71d",
   "metadata": {},
   "outputs": [
    {
     "name": "stdout",
     "output_type": "stream",
     "text": [
      "\"The movie was just awesome\"\n"
     ]
    }
   ],
   "source": [
    "# showing quotes in sring characters\n",
    "applause = '\"The movie was just awesome\"'\n",
    "print(applause)"
   ]
  },
  {
   "cell_type": "code",
   "execution_count": 39,
   "id": "37fa50dd",
   "metadata": {},
   "outputs": [
    {
     "name": "stdout",
     "output_type": "stream",
     "text": [
      "\"It's okay not to be okay!\"\n"
     ]
    }
   ],
   "source": [
    "#uses of escape character\n",
    "quote = \"\\\"It's okay not to be okay!\\\"\"\n",
    "print(quote)"
   ]
  },
  {
   "cell_type": "code",
   "execution_count": 40,
   "id": "f827d538",
   "metadata": {},
   "outputs": [
    {
     "name": "stdout",
     "output_type": "stream",
     "text": [
      "My name is Bond,\n",
      " James Bond!\n"
     ]
    }
   ],
   "source": [
    "#use backslash character with n to print a new line when printing a string\n",
    "bond = \"My name is Bond,\\n James Bond!\"\n",
    "print(bond)"
   ]
  },
  {
   "cell_type": "code",
   "execution_count": 41,
   "id": "e82a979e",
   "metadata": {},
   "outputs": [
    {
     "name": "stdout",
     "output_type": "stream",
     "text": [
      "I love m\n",
      "I love j\n",
      "I love o\n",
      "I love l\n",
      "I love n\n",
      "I love y\n",
      "I love r\n"
     ]
    }
   ],
   "source": [
    "#use for loops to iterate over strings\n",
    "Thor = \"mjolnyr\"\n",
    "for thor in Thor:\n",
    "    print(\"I love \" + thor)"
   ]
  },
  {
   "cell_type": "markdown",
   "id": "65954d10",
   "metadata": {},
   "source": [
    "## Indexing\n",
    "\n",
    "Indexing is a way to refer to individual items within an iterable by their relative position.\n",
    "\n",
    "Indexing is a very important concept in Python as it allows us to :\n",
    "- select data\n",
    "- filter data\n",
    "- edit data\n",
    "- manipulate data\n",
    "\n",
    "Python uses zero-based indexing.\n",
    "\n",
    "### String Methods\n",
    "1. index(): string method that outputs the index number of a character in a string.\n",
    "2. format(): formats and inserts specific substrings into designated places within a larger string."
   ]
  },
  {
   "cell_type": "code",
   "execution_count": 42,
   "id": "a44b66d9",
   "metadata": {},
   "outputs": [
    {
     "data": {
      "text/plain": [
       "3"
      ]
     },
     "execution_count": 42,
     "metadata": {},
     "output_type": "execute_result"
    }
   ],
   "source": [
    "## find index of 't' in the following string\n",
    "sport = \"football\"\n",
    "sport.index('t')"
   ]
  },
  {
   "cell_type": "code",
   "execution_count": 43,
   "id": "ff535fae",
   "metadata": {},
   "outputs": [
    {
     "data": {
      "text/plain": [
       "'a'"
      ]
     },
     "execution_count": 43,
     "metadata": {},
     "output_type": "execute_result"
    }
   ],
   "source": [
    "#access character at index 5\n",
    "sport[5]"
   ]
  },
  {
   "cell_type": "code",
   "execution_count": 44,
   "id": "30a56fb9",
   "metadata": {},
   "outputs": [
    {
     "data": {
      "text/plain": [
       "'oot'"
      ]
     },
     "execution_count": 44,
     "metadata": {},
     "output_type": "execute_result"
    }
   ],
   "source": [
    "# slice sport string\n",
    "sport[1:4]"
   ]
  },
  {
   "cell_type": "code",
   "execution_count": 45,
   "id": "58146d99",
   "metadata": {},
   "outputs": [
    {
     "data": {
      "text/plain": [
       "'app'"
      ]
     },
     "execution_count": 45,
     "metadata": {},
     "output_type": "execute_result"
    }
   ],
   "source": [
    "fruit = \"apple\"\n",
    "fruit[:3]"
   ]
  },
  {
   "cell_type": "code",
   "execution_count": 46,
   "id": "709a7585",
   "metadata": {},
   "outputs": [
    {
     "name": "stdout",
     "output_type": "stream",
     "text": [
      "False\n",
      "True\n"
     ]
    }
   ],
   "source": [
    "#check mebership of string in a given variable/string characters\n",
    "print(\"banana\" in sport)\n",
    "\n",
    "print(\"apple\" in fruit)"
   ]
  },
  {
   "cell_type": "code",
   "execution_count": 47,
   "id": "bd2bf2d7",
   "metadata": {},
   "outputs": [
    {
     "name": "stdout",
     "output_type": "stream",
     "text": [
      "In september 2023, I will starting a new role, Junior data analyst with a monthly salary of $2000.\n"
     ]
    }
   ],
   "source": [
    "#use format string method\n",
    "role = \"Junior data analyst\"\n",
    "salary = 2000\n",
    "print(\"In september 2023, I will starting a new role, {} with a monthly salary of ${}.\".format(role, salary))"
   ]
  },
  {
   "cell_type": "code",
   "execution_count": 48,
   "id": "0af893c6",
   "metadata": {},
   "outputs": [
    {
     "name": "stdout",
     "output_type": "stream",
     "text": [
      "Base price: $12.50 USD. \n",
      "with_tax: $15.62 USD.\n"
     ]
    }
   ],
   "source": [
    "#Another example of using format string method\n",
    "price = 12.5\n",
    "with_tax = price * 1.25\n",
    "\n",
    "print(\"Base price: ${:.2f} USD. \\nwith_tax: ${:.2f} USD.\".format(price, with_tax))"
   ]
  },
  {
   "cell_type": "markdown",
   "id": "697d5a41",
   "metadata": {},
   "source": [
    "## Data Structures\n",
    "\n",
    "Data structures are a collection of data values or objects that contain different data types.\n",
    "\n",
    "Data structures are used to store, organize and categorize data. Data professionals use them for speed and efficiency.\n",
    "\n",
    "### Types of Data Structures in Python\n",
    "a) **List**\n",
    "\n",
    "A list is a data structure that helps store and manipulate an ordered collection of items. List store sequence of ordered elements. They allow duplicate elements. \n",
    "\n",
    "Lists also allow indexing and sequencing.\n",
    "\n",
    "A **sequence** is a positionally ordered collection of items.\n",
    "\n",
    " Lists are mutable\n",
    " \n",
    " Common methods applicable to lists:\n",
    " - append(): adds an element to the end of a list as a single new entry.\n",
    " - insert(): takes and index as the first parameter and an element as the second parameter, then inserts the element into a list at the given index.\n",
    " - remove(): remove an element in a list"
   ]
  },
  {
   "cell_type": "code",
   "execution_count": 49,
   "id": "d04d1815",
   "metadata": {},
   "outputs": [
    {
     "data": {
      "text/plain": [
       "'Spider Man'"
      ]
     },
     "execution_count": 49,
     "metadata": {},
     "output_type": "execute_result"
    }
   ],
   "source": [
    "#create a list\n",
    "marvel = [\"Iron Man\", \"Thor\", \"Spider Man\", \"Doctor Strange\", \"Daredevil\"]\n",
    "\n",
    "#index the list\n",
    "marvel[2]"
   ]
  },
  {
   "cell_type": "code",
   "execution_count": 50,
   "id": "985fd73d",
   "metadata": {},
   "outputs": [
    {
     "data": {
      "text/plain": [
       "['Spider Man', 'Doctor Strange']"
      ]
     },
     "execution_count": 50,
     "metadata": {},
     "output_type": "execute_result"
    }
   ],
   "source": [
    "#slice the list\n",
    "marvel[2:4]"
   ]
  },
  {
   "cell_type": "code",
   "execution_count": 51,
   "id": "4537a5af",
   "metadata": {},
   "outputs": [
    {
     "data": {
      "text/plain": [
       "['Doctor Strange', 'Daredevil']"
      ]
     },
     "execution_count": 51,
     "metadata": {},
     "output_type": "execute_result"
    }
   ],
   "source": [
    "marvel[3:]"
   ]
  },
  {
   "cell_type": "code",
   "execution_count": 52,
   "id": "0821ab80",
   "metadata": {},
   "outputs": [
    {
     "data": {
      "text/plain": [
       "['Google', 'Microsoft', 'Meta', 'Netflix', 'Nvidia']"
      ]
     },
     "execution_count": 52,
     "metadata": {},
     "output_type": "execute_result"
    }
   ],
   "source": [
    "#add another brand to the brands list\n",
    "tech_brands = [\"Google\", \"Microsoft\", \"Meta\", \"Netflix\", \"Nvidia\"]\n",
    "tech_brands"
   ]
  },
  {
   "cell_type": "code",
   "execution_count": 53,
   "id": "96799535",
   "metadata": {},
   "outputs": [
    {
     "name": "stdout",
     "output_type": "stream",
     "text": [
      "['Google', 'Microsoft', 'Meta', 'Netflix', 'Nvidia', 'Twitter']\n"
     ]
    }
   ],
   "source": [
    "tech_brands.append(\"Twitter\")\n",
    "print(tech_brands)"
   ]
  },
  {
   "cell_type": "code",
   "execution_count": 54,
   "id": "94858f23",
   "metadata": {},
   "outputs": [
    {
     "name": "stdout",
     "output_type": "stream",
     "text": [
      "['Google', 'Microsoft', 'Snapchat', 'Meta', 'Netflix', 'Nvidia', 'Twitter']\n"
     ]
    }
   ],
   "source": [
    "#insert snapchat into the 3 position of tech_brands list\n",
    "tech_brands.insert(2, \"Snapchat\")\n",
    "print(tech_brands)"
   ]
  },
  {
   "cell_type": "code",
   "execution_count": 55,
   "id": "3de28525",
   "metadata": {},
   "outputs": [
    {
     "name": "stdout",
     "output_type": "stream",
     "text": [
      "['Google', 'Microsoft', 'Snapchat', 'Meta', 'Nvidia', 'Twitter']\n"
     ]
    }
   ],
   "source": [
    "#remove 'Netflix' from the tech_brands list\n",
    "tech_brands.remove(\"Netflix\")\n",
    "print(tech_brands)"
   ]
  },
  {
   "cell_type": "markdown",
   "id": "1fd0f0b7",
   "metadata": {},
   "source": [
    " ### Tuple\n",
    " \n",
    " A **tuple** is an immutable sequence that can contain elements of any data type."
   ]
  },
  {
   "cell_type": "code",
   "execution_count": 56,
   "id": "8089cad0",
   "metadata": {},
   "outputs": [
    {
     "name": "stdout",
     "output_type": "stream",
     "text": [
      "('Collins', 'Ogombo', 'Ochiko')\n"
     ]
    }
   ],
   "source": [
    "#instatiate a tuple of my full name\n",
    "fullname = tuple((\"Collins\", \"Ogombo\", \"Ochiko\"))\n",
    "print(fullname)\n"
   ]
  },
  {
   "cell_type": "code",
   "execution_count": 57,
   "id": "b8495260",
   "metadata": {},
   "outputs": [
    {
     "name": "stdout",
     "output_type": "stream",
     "text": [
      "('Google', 'Microsoft', 'Snapchat', 'Meta', 'Nvidia', 'Twitter')\n"
     ]
    }
   ],
   "source": [
    "#convert tech_brands into a tuple\n",
    "brands = tuple(tech_brands)\n",
    "print(brands)"
   ]
  },
  {
   "cell_type": "code",
   "execution_count": 58,
   "id": "d745ab02",
   "metadata": {},
   "outputs": [],
   "source": [
    "#tuples used to return values and functions\n",
    "\n",
    "def to_dollars_cents(price):\n",
    "    '''\n",
    "        Split price(float) into dollars and cents\n",
    "    '''\n",
    "    dollars = int(price // 1)\n",
    "    cents = round(price % 1 * 100)\n",
    "    \n",
    "    return dollars, cents"
   ]
  },
  {
   "cell_type": "code",
   "execution_count": 59,
   "id": "3c68dd70",
   "metadata": {},
   "outputs": [
    {
     "data": {
      "text/plain": [
       "(9, 55)"
      ]
     },
     "execution_count": 59,
     "metadata": {},
     "output_type": "execute_result"
    }
   ],
   "source": [
    "to_dollars_cents(9.55)"
   ]
  },
  {
   "cell_type": "code",
   "execution_count": 60,
   "id": "9cc3e92f",
   "metadata": {},
   "outputs": [
    {
     "name": "stdout",
     "output_type": "stream",
     "text": [
      "11\n",
      "78\n"
     ]
    }
   ],
   "source": [
    "#unpack a tuple into two  seperate variable\n",
    "dollars, cents = to_dollars_cents(12.88)\n",
    "print(dollars - 1)\n",
    "print(cents - 10)"
   ]
  },
  {
   "cell_type": "code",
   "execution_count": 61,
   "id": "cc4b9844",
   "metadata": {},
   "outputs": [
    {
     "name": "stdout",
     "output_type": "stream",
     "text": [
      "[('Christiano Ronaldo', 7, 'Forward'), ('Luis Suarez', 8, 'Right wing'), ('Lionel Messi', 10, 'Forward'), ('Sergio Busquets', 14, 'Center Back')]\n"
     ]
    }
   ],
   "source": [
    "best_players = [(\"Christiano Ronaldo\", 7, \"Forward\"),\n",
    "                (\"Luis Suarez\", 8, \"Right wing\"),\n",
    "               (\"Lionel Messi\", 10, \"Forward\"),\n",
    "               (\"Sergio Busquets\", 14, \"Center Back\")]\n",
    "print(best_players)"
   ]
  },
  {
   "cell_type": "code",
   "execution_count": 62,
   "id": "22082a29",
   "metadata": {},
   "outputs": [
    {
     "name": "stdout",
     "output_type": "stream",
     "text": [
      "Christiano Ronaldo 7\n",
      "Luis Suarez 8\n",
      "Lionel Messi 10\n",
      "Sergio Busquets 14\n"
     ]
    }
   ],
   "source": [
    "for name, number, position in best_players:\n",
    "    print(name, number)"
   ]
  },
  {
   "cell_type": "code",
   "execution_count": 63,
   "id": "0373575a",
   "metadata": {},
   "outputs": [
    {
     "name": "stdout",
     "output_type": "stream",
     "text": [
      "Christiano Ronaldo\n",
      "Luis Suarez\n",
      "Lionel Messi\n",
      "Sergio Busquets\n"
     ]
    }
   ],
   "source": [
    "for player in best_players:\n",
    "    print(player[0])"
   ]
  },
  {
   "cell_type": "code",
   "execution_count": 64,
   "id": "a659f940",
   "metadata": {},
   "outputs": [],
   "source": [
    "def player_rank(players):\n",
    "    result = []\n",
    "    for name, rank, position in players:\n",
    "        result.append('name: {:>20} \\nposition: {:>15}\\n'.format(name, position))\n",
    "    \n",
    "    return result"
   ]
  },
  {
   "cell_type": "code",
   "execution_count": 65,
   "id": "23b81022",
   "metadata": {},
   "outputs": [
    {
     "data": {
      "text/plain": [
       "['name:   Christiano Ronaldo \\nposition:         Forward\\n',\n",
       " 'name:          Luis Suarez \\nposition:      Right wing\\n',\n",
       " 'name:         Lionel Messi \\nposition:         Forward\\n',\n",
       " 'name:      Sergio Busquets \\nposition:     Center Back\\n']"
      ]
     },
     "execution_count": 65,
     "metadata": {},
     "output_type": "execute_result"
    }
   ],
   "source": [
    "player_rank(best_players)"
   ]
  },
  {
   "cell_type": "code",
   "execution_count": 66,
   "id": "8dae5b6a",
   "metadata": {},
   "outputs": [
    {
     "name": "stdout",
     "output_type": "stream",
     "text": [
      "name:   Christiano Ronaldo \n",
      "position:         Forward\n",
      "\n",
      "name:          Luis Suarez \n",
      "position:      Right wing\n",
      "\n",
      "name:         Lionel Messi \n",
      "position:         Forward\n",
      "\n",
      "name:      Sergio Busquets \n",
      "position:     Center Back\n",
      "\n"
     ]
    }
   ],
   "source": [
    "#use the results of the function in a for loop\n",
    "for player in player_rank(best_players):\n",
    "    print(player)"
   ]
  },
  {
   "cell_type": "markdown",
   "id": "23e7eac9",
   "metadata": {},
   "source": [
    "## Dictionaries\n",
    "\n",
    "A dictionary is a data structure that consists of a collection of key-value pairs.\n",
    "\n",
    "Dictionary methods:\n",
    "\n",
    "1. keys(): retrieve only the keys of the ditionary\n",
    "2. values(): retrieve only the dictionary's values\n",
    "3. items(): retrieve both keys and values of a dictionary"
   ]
  },
  {
   "cell_type": "code",
   "execution_count": 70,
   "id": "3ef7f7bc",
   "metadata": {},
   "outputs": [
    {
     "name": "stdout",
     "output_type": "stream",
     "text": [
      "{'year1': 'BI Analyst', 'year2': 'Product Analyst', 'year3': 'Business Analyst'}\n"
     ]
    }
   ],
   "source": [
    "#example dictionary\n",
    "\n",
    "careers = {\n",
    "    'year1': 'BI Analyst',\n",
    "    'year2': 'Product Analyst',\n",
    "    'year3': 'Business Analyst'\n",
    "} \n",
    "\n",
    "print(careers)"
   ]
  },
  {
   "cell_type": "code",
   "execution_count": 71,
   "id": "48cc7149",
   "metadata": {},
   "outputs": [
    {
     "data": {
      "text/plain": [
       "'BI Analyst'"
      ]
     },
     "execution_count": 71,
     "metadata": {},
     "output_type": "execute_result"
    }
   ],
   "source": [
    "#Access elements of 'careers' dictionary\n",
    "careers['year1']"
   ]
  },
  {
   "cell_type": "code",
   "execution_count": 76,
   "id": "9935b5b2",
   "metadata": {},
   "outputs": [
    {
     "name": "stdout",
     "output_type": "stream",
     "text": [
      "{'year1': 'BI Analyst', 'year2': 'Product Analyst', 'year3': 'Business Analyst', 'year4': 'Product Manager'}\n"
     ]
    }
   ],
   "source": [
    "#add another element in the dictionary\n",
    "careers['year4'] = \"Product Manager\"\n",
    "print(careers)"
   ]
  },
  {
   "cell_type": "code",
   "execution_count": 74,
   "id": "e22dce13",
   "metadata": {},
   "outputs": [
    {
     "name": "stdout",
     "output_type": "stream",
     "text": [
      "{'q1': 'Payment of School fees for Brighton', 'q2': 'Travel to SA/Zanzibar', 'q3': 'Purchase land upcountryside', 'q4': 'Buy tuxedo for Dad'}\n"
     ]
    }
   ],
   "source": [
    "#another example of dictionary using dict function\n",
    "\n",
    "my_goals = dict(\n",
    "q1='Payment of School fees for Brighton',\n",
    "q2='Travel to SA/Zanzibar',\n",
    "q3='Purchase land upcountryside',\n",
    "q4='Buy tuxedo for Dad')\n",
    "\n",
    "print(my_goals)\n"
   ]
  },
  {
   "cell_type": "code",
   "execution_count": 80,
   "id": "dcb5542a",
   "metadata": {},
   "outputs": [
    {
     "data": {
      "text/plain": [
       "{'Python': [('Machine Learning', 'ML Engineer'),\n",
       "  ('Data Analysis', 'Data Analyst')],\n",
       " 'SQL': [('Database Design', 'DB Administrator')],\n",
       " 'R': [('Data Science', 'Data Scientist'),\n",
       "  ('Data Visualization', 'Viz Expert')],\n",
       " 'Power BI': [('Data Visualization', 'BI Developer')],\n",
       " 'Scala': [('Big Data', 'Big Data Specialist')]}"
      ]
     },
     "execution_count": 80,
     "metadata": {},
     "output_type": "execute_result"
    }
   ],
   "source": [
    "#define a list tuples of data analytics:language, specialisation and Job Role.\n",
    "data_analytics = [\n",
    "    (\"Python\", \"Machine Learning\", \"ML Engineer\"),\n",
    "    (\"SQL\", \"Database Design\", \"DB Administrator\"),\n",
    "    (\"R\", \"Data Science\", \"Data Scientist\"),\n",
    "    (\"Power BI\", \"Data Visualization\", \"BI Developer\"),\n",
    "    (\"Python\", \"Data Analysis\", \"Data Analyst\"),\n",
    "    (\"R\", \"Data Visualization\", \"Viz Expert\"),\n",
    "    (\"Scala\", \"Big Data\", \"Big Data Specialist\")\n",
    "]\n",
    "\n",
    "#instantiate an empty dictionary\n",
    "analytics_requirements = {}\n",
    "\n",
    "#loop over each tuple in data _analytics list, extract the language, and assign it as a dictionary key;\n",
    "#extract speacialisation and job role as a list of tuple annd assign them as a tuple within a slist representing the value of the dictionary.\n",
    "for language, specialisation, role in data_analytics:\n",
    "    if language in analytics_requirements:\n",
    "        analytics_requirements[language].append((specialisation, role))\n",
    "    else:\n",
    "        analytics_requirements[language] = [(specialisation, role)]\n",
    "        \n",
    "analytics_requirements"
   ]
  },
  {
   "cell_type": "code",
   "execution_count": 82,
   "id": "d6284156",
   "metadata": {},
   "outputs": [
    {
     "name": "stdout",
     "output_type": "stream",
     "text": [
      "[('Machine Learning', 'ML Engineer'), ('Data Analysis', 'Data Analyst')]\n",
      "[('Data Visualization', 'BI Developer')]\n"
     ]
    }
   ],
   "source": [
    "print(analytics_requirements[\"Python\"])\n",
    "\n",
    "print(analytics_requirements[\"Power BI\"])"
   ]
  },
  {
   "cell_type": "code",
   "execution_count": 83,
   "id": "48b32ce3",
   "metadata": {},
   "outputs": [
    {
     "data": {
      "text/plain": [
       "dict_keys(['Python', 'SQL', 'R', 'Power BI', 'Scala'])"
      ]
     },
     "execution_count": 83,
     "metadata": {},
     "output_type": "execute_result"
    }
   ],
   "source": [
    "#access keys of dictionary\n",
    "\n",
    "analytics_requirements.keys()"
   ]
  },
  {
   "cell_type": "code",
   "execution_count": 86,
   "id": "f25b6173",
   "metadata": {},
   "outputs": [
    {
     "name": "stdout",
     "output_type": "stream",
     "text": [
      "dict_values(['BI Analyst', 'Product Analyst', 'Business Analyst', 'Product Manager'])\n"
     ]
    },
    {
     "data": {
      "text/plain": [
       "dict_values([[('Machine Learning', 'ML Engineer'), ('Data Analysis', 'Data Analyst')], [('Database Design', 'DB Administrator')], [('Data Science', 'Data Scientist'), ('Data Visualization', 'Viz Expert')], [('Data Visualization', 'BI Developer')], [('Big Data', 'Big Data Specialist')]])"
      ]
     },
     "execution_count": 86,
     "metadata": {},
     "output_type": "execute_result"
    }
   ],
   "source": [
    "#access values of dictionary\n",
    "\n",
    "print(careers.values())\n",
    "\n",
    "analytics_requirements.values()"
   ]
  },
  {
   "cell_type": "code",
   "execution_count": 87,
   "id": "16d3fbaf",
   "metadata": {},
   "outputs": [
    {
     "data": {
      "text/plain": [
       "dict_items([('year1', 'BI Analyst'), ('year2', 'Product Analyst'), ('year3', 'Business Analyst'), ('year4', 'Product Manager')])"
      ]
     },
     "execution_count": 87,
     "metadata": {},
     "output_type": "execute_result"
    }
   ],
   "source": [
    "#access both values and keys of careers dictionary\n",
    "careers.items()"
   ]
  },
  {
   "cell_type": "code",
   "execution_count": 88,
   "id": "38dc9d11",
   "metadata": {},
   "outputs": [
    {
     "name": "stdout",
     "output_type": "stream",
     "text": [
      "Python [('Machine Learning', 'ML Engineer'), ('Data Analysis', 'Data Analyst')]\n",
      "SQL [('Database Design', 'DB Administrator')]\n",
      "R [('Data Science', 'Data Scientist'), ('Data Visualization', 'Viz Expert')]\n",
      "Power BI [('Data Visualization', 'BI Developer')]\n",
      "Scala [('Big Data', 'Big Data Specialist')]\n"
     ]
    }
   ],
   "source": [
    "for a, b in analytics_requirements.items():\n",
    "    print(a, b)"
   ]
  },
  {
   "cell_type": "markdown",
   "id": "7e412c0b",
   "metadata": {},
   "source": [
    "## Sets\n",
    "\n",
    "Sets are python data structures that contain unordered , non-interchangeable elements.\n",
    "\n",
    "Each set element is **unique and immutable**. However, the set itself is mutable.\n",
    "\n",
    "Sets are valuable when storing mixed data in a single row/record in a  data table.\n",
    "\n",
    "To create a set, use **set()** function.\n",
    "\n",
    "**set()** : takes an iterable(list, tuple,string) as an argument and returns a new set object.\n",
    "\n",
    "Additional functions one can use on sets:\n",
    "1. intersection(): finds the elements that two sets have in common\n",
    "2. union(): finds all elements from both sets\n",
    "3. difference(): finds elements present in one set, but not the other.\n",
    "4. symmetric_difference: finds elements from both sets that are mutually not present in the other."
   ]
  },
  {
   "cell_type": "code",
   "execution_count": 90,
   "id": "cb81b478",
   "metadata": {},
   "outputs": [
    {
     "name": "stdout",
     "output_type": "stream",
     "text": [
      "{'banana', 'eggs', 'milk', 'cereal'}\n"
     ]
    }
   ],
   "source": [
    "#set example\n",
    "\n",
    "#breakfast list\n",
    "breakfast = [\"cereal\", \"milk\", \"banana\", \"eggs\"]\n",
    "breakfast_set = set(breakfast)\n",
    "\n",
    "print(breakfast_set)"
   ]
  },
  {
   "cell_type": "code",
   "execution_count": 91,
   "id": "0e25a55a",
   "metadata": {},
   "outputs": [
    {
     "name": "stdout",
     "output_type": "stream",
     "text": [
      "{'earth', 'venus', 'jupiter', 'mars'}\n"
     ]
    }
   ],
   "source": [
    "#set example 2: using tuple\n",
    "planets = (\"earth\", \"mars\", \"mars\", \"jupiter\",\"venus\", \"venus\")\n",
    "planets_set = set(planets)\n",
    "\n",
    "print(planets_set) #output contains only unique elements"
   ]
  },
  {
   "cell_type": "code",
   "execution_count": 93,
   "id": "6295e107",
   "metadata": {},
   "outputs": [
    {
     "name": "stdout",
     "output_type": "stream",
     "text": [
      "{16, 20, 12}\n",
      "{16, 20, 12}\n"
     ]
    }
   ],
   "source": [
    "#find intersetion of the two sets\n",
    "\n",
    "set_a = {12, 14, 16, 18, 20, 22, 25}\n",
    "set_b = {12, 16, 20, 26, 28}\n",
    "\n",
    "print(set_a.intersection(set_b))\n",
    "\n",
    "print(set_a & set_b) #use of ampersand operator"
   ]
  },
  {
   "cell_type": "code",
   "execution_count": 96,
   "id": "a82059b7",
   "metadata": {},
   "outputs": [
    {
     "name": "stdout",
     "output_type": "stream",
     "text": [
      "{'biscuits', 'croissant', 'bun', 'cake', 'scorns', 'bread'}\n",
      "{'biscuits', 'croissant', 'bun', 'cake', 'scorns', 'bread'}\n"
     ]
    }
   ],
   "source": [
    "#find union of two sets\n",
    "\n",
    "confectionerry = {\"cake\", \"biscuits\", \"scorns\", \"croissant\"}\n",
    "bagels = {\"croissant\", \"bun\", \"scorns\", \"bread\"}\n",
    "\n",
    "print(confectionerry.union(bagels))\n",
    "\n",
    "print(confectionerry | bagels) #unio operator symbol"
   ]
  },
  {
   "cell_type": "code",
   "execution_count": 98,
   "id": "fc1671af",
   "metadata": {},
   "outputs": [
    {
     "name": "stdout",
     "output_type": "stream",
     "text": [
      "{'biscuits', 'cake'}\n",
      "{'biscuits', 'cake'}\n"
     ]
    }
   ],
   "source": [
    "#find difference in two sets\n",
    "print(confectionerry.difference(bagels))\n",
    "\n",
    "print(confectionerry - bagels)"
   ]
  },
  {
   "cell_type": "code",
   "execution_count": 99,
   "id": "a4c20370",
   "metadata": {},
   "outputs": [
    {
     "name": "stdout",
     "output_type": "stream",
     "text": [
      "{'biscuits', 'bun', 'cake', 'bread'}\n"
     ]
    }
   ],
   "source": [
    "#find symmetric difference between two sets\n",
    "\n",
    "print(confectionerry.symmetric_difference(bagels))"
   ]
  },
  {
   "cell_type": "markdown",
   "id": "91a65e3a",
   "metadata": {},
   "source": [
    "## Packages\n",
    "\n",
    "Library/package refers to a reusable collection of code.\n",
    "It also contains related modules and documentation.\n",
    "\n",
    "Modules: python files that contain a colletion of funtions and global variables\n",
    "\n",
    "Commonly used libraries for data work are:\n",
    "\n",
    "1. matplotlib: library fpr creating static, animated and interactive visualizations in Python \n",
    "2. seaborn: data visualization library based on matplotlib that provides a simpler interface for working with common plots and graphs.\n",
    "3. Numpy: library that contains multidimensional array and matrix data structures and functions to manipulate them. Commonly used for scientific computation.\n",
    "4. Pandas: Built on top of Numpy. It is used to manipulate and analyze tabular data."
   ]
  },
  {
   "cell_type": "markdown",
   "id": "eb569189",
   "metadata": {},
   "source": [
    "## Numpy\n",
    "\n",
    "Numpy's power comes from vectorization.\n",
    "\n",
    "Vectorization enables operations to be performed on multiple components of a data object at the same time.\n",
    "\n",
    "### n-dimensional array(ndarray)\n",
    "The array is the core data object of numpy.\n",
    "The ndarray is a vector\n",
    "\n",
    "1. ndarrays are mutable;you can change the values they contain.\n",
    "2. All elements of ndarray should be of the same data type\n",
    "3. dtype: A numpy attribute used to check the data type of the contents of an array.\n"
   ]
  },
  {
   "cell_type": "code",
   "execution_count": 101,
   "id": "425ebb39",
   "metadata": {},
   "outputs": [
    {
     "data": {
      "text/plain": [
       "array([ 2,  8, 18, 32])"
      ]
     },
     "execution_count": 101,
     "metadata": {},
     "output_type": "execute_result"
    }
   ],
   "source": [
    "#pefrom a vectorized computation\n",
    "\n",
    "\n",
    "import numpy as np\n",
    "\n",
    "#create two lists\n",
    "list_a = [2, 4, 6, 8]\n",
    "list_b = [1, 2, 3, 4]\n",
    "\n",
    "#convert the two lists into arrays\n",
    "array_a = np.array(list_a)\n",
    "array_b = np.array(list_b)\n",
    "\n",
    "#multiply the two arrays\n",
    "\n",
    "array_a * array_b"
   ]
  },
  {
   "cell_type": "code",
   "execution_count": 102,
   "id": "d6ace548",
   "metadata": {},
   "outputs": [
    {
     "data": {
      "text/plain": [
       "numpy.ndarray"
      ]
     },
     "execution_count": 102,
     "metadata": {},
     "output_type": "execute_result"
    }
   ],
   "source": [
    "type(array_a)"
   ]
  },
  {
   "cell_type": "code",
   "execution_count": 106,
   "id": "39066835",
   "metadata": {},
   "outputs": [
    {
     "data": {
      "text/plain": [
       "array([10, 20, 30])"
      ]
     },
     "execution_count": 106,
     "metadata": {},
     "output_type": "execute_result"
    }
   ],
   "source": [
    "x = np.array([10, 20, 30])\n",
    "x"
   ]
  },
  {
   "cell_type": "code",
   "execution_count": 108,
   "id": "f79a134f",
   "metadata": {},
   "outputs": [
    {
     "data": {
      "text/plain": [
       "array([10, 20, 40])"
      ]
     },
     "execution_count": 108,
     "metadata": {},
     "output_type": "execute_result"
    }
   ],
   "source": [
    "#change a value in x array\n",
    "x[-1] = 40\n",
    "x"
   ]
  },
  {
   "cell_type": "code",
   "execution_count": 127,
   "id": "3c021140",
   "metadata": {},
   "outputs": [
    {
     "data": {
      "text/plain": [
       "array([10, 20, 30])"
      ]
     },
     "execution_count": 127,
     "metadata": {},
     "output_type": "execute_result"
    }
   ],
   "source": [
    "x[2] = 30\n",
    "x"
   ]
  },
  {
   "cell_type": "code",
   "execution_count": 115,
   "id": "e3841849",
   "metadata": {},
   "outputs": [
    {
     "data": {
      "text/plain": [
       "array(['2', '2.5', 'sell'], dtype='<U32')"
      ]
     },
     "execution_count": 115,
     "metadata": {},
     "output_type": "execute_result"
    }
   ],
   "source": [
    "y = np.array([2, 2.5, 'sell'])\n",
    "y #output is coerced into one data type"
   ]
  },
  {
   "cell_type": "code",
   "execution_count": 118,
   "id": "045fd0dd",
   "metadata": {},
   "outputs": [
    {
     "name": "stdout",
     "output_type": "stream",
     "text": [
      "int32\n",
      "<U32\n"
     ]
    }
   ],
   "source": [
    "#check data type of elements of x  and y array\n",
    "print(x.dtype)\n",
    "\n",
    "print(y.dtype)"
   ]
  },
  {
   "cell_type": "code",
   "execution_count": 125,
   "id": "6e31b63c",
   "metadata": {},
   "outputs": [
    {
     "name": "stdout",
     "output_type": "stream",
     "text": [
      "The shape of array is: (4, 3)\n",
      "Number of dimensions of array is: 2\n",
      "[[ 10  20  30]\n",
      " [ 40  50  60]\n",
      " [ 70  80  90]\n",
      " [100 110 120]]\n"
     ]
    }
   ],
   "source": [
    "#create multi-dimension array\n",
    "\n",
    "muiti_array = np.array([[10, 20, 30], [40, 50, 60], [70, 80, 90], [100, 110, 120]])\n",
    "print(f\"The shape of array is: {muiti_array.shape}\") \n",
    "print(f\"Number of dimensions of array is: {muiti_array.ndim}\")\n",
    "\n",
    "print(muiti_array)"
   ]
  },
  {
   "cell_type": "code",
   "execution_count": 130,
   "id": "933befce",
   "metadata": {},
   "outputs": [
    {
     "data": {
      "text/plain": [
       "array([[ 10,  20,  30,  40],\n",
       "       [ 50,  60,  70,  80],\n",
       "       [ 90, 100, 110, 120]])"
      ]
     },
     "execution_count": 130,
     "metadata": {},
     "output_type": "execute_result"
    }
   ],
   "source": [
    "#reshape the array to 4 rows, 2 columns\n",
    "new_array = muiti_array.reshape(3, 4)\n",
    "new_array"
   ]
  },
  {
   "cell_type": "code",
   "execution_count": 132,
   "id": "a7ed1c3f",
   "metadata": {},
   "outputs": [
    {
     "data": {
      "text/plain": [
       "65.0"
      ]
     },
     "execution_count": 132,
     "metadata": {},
     "output_type": "execute_result"
    }
   ],
   "source": [
    "#numpy functions\n",
    "average = np.mean(new_array)\n",
    "average"
   ]
  },
  {
   "cell_type": "code",
   "execution_count": 136,
   "id": "008ddec4",
   "metadata": {},
   "outputs": [
    {
     "name": "stdout",
     "output_type": "stream",
     "text": [
      "5.0\n",
      "4.0\n"
     ]
    }
   ],
   "source": [
    "print(np.floor(5.9))\n",
    "\n",
    "print(np.ceil(3.1))"
   ]
  },
  {
   "cell_type": "markdown",
   "id": "8924e617",
   "metadata": {},
   "source": [
    "## Pandas\n",
    "\n",
    "Pandas is used to analyze and manipulate tabular data. \n",
    "\n",
    "Tabular data is in the form of a table, with rows and columns.\n",
    "\n",
    "The 2 core data structure of pandas are:\n",
    "- Dataframe: two-dimensional labeled data structure with rows and columns.\n",
    "- Series: a one-dimensional labeled array\n",
    "\n",
    "Pandas methods:\n",
    "- agg(): A pandas groupby method that allows you to apply multiple calculations to groups of data."
   ]
  },
  {
   "cell_type": "code",
   "execution_count": 141,
   "id": "ebe5fc5f",
   "metadata": {},
   "outputs": [
    {
     "data": {
      "text/html": [
       "<div>\n",
       "<style scoped>\n",
       "    .dataframe tbody tr th:only-of-type {\n",
       "        vertical-align: middle;\n",
       "    }\n",
       "\n",
       "    .dataframe tbody tr th {\n",
       "        vertical-align: top;\n",
       "    }\n",
       "\n",
       "    .dataframe thead th {\n",
       "        text-align: right;\n",
       "    }\n",
       "</style>\n",
       "<table border=\"1\" class=\"dataframe\">\n",
       "  <thead>\n",
       "    <tr style=\"text-align: right;\">\n",
       "      <th></th>\n",
       "      <th>months</th>\n",
       "      <th>sales</th>\n",
       "    </tr>\n",
       "  </thead>\n",
       "  <tbody>\n",
       "    <tr>\n",
       "      <th>0</th>\n",
       "      <td>1</td>\n",
       "      <td>10</td>\n",
       "    </tr>\n",
       "    <tr>\n",
       "      <th>1</th>\n",
       "      <td>2</td>\n",
       "      <td>20</td>\n",
       "    </tr>\n",
       "    <tr>\n",
       "      <th>2</th>\n",
       "      <td>3</td>\n",
       "      <td>30</td>\n",
       "    </tr>\n",
       "    <tr>\n",
       "      <th>3</th>\n",
       "      <td>4</td>\n",
       "      <td>40</td>\n",
       "    </tr>\n",
       "    <tr>\n",
       "      <th>4</th>\n",
       "      <td>5</td>\n",
       "      <td>50</td>\n",
       "    </tr>\n",
       "    <tr>\n",
       "      <th>5</th>\n",
       "      <td>6</td>\n",
       "      <td>60</td>\n",
       "    </tr>\n",
       "    <tr>\n",
       "      <th>6</th>\n",
       "      <td>7</td>\n",
       "      <td>70</td>\n",
       "    </tr>\n",
       "    <tr>\n",
       "      <th>7</th>\n",
       "      <td>8</td>\n",
       "      <td>80</td>\n",
       "    </tr>\n",
       "    <tr>\n",
       "      <th>8</th>\n",
       "      <td>9</td>\n",
       "      <td>90</td>\n",
       "    </tr>\n",
       "    <tr>\n",
       "      <th>9</th>\n",
       "      <td>10</td>\n",
       "      <td>100</td>\n",
       "    </tr>\n",
       "  </tbody>\n",
       "</table>\n",
       "</div>"
      ],
      "text/plain": [
       "   months  sales\n",
       "0       1     10\n",
       "1       2     20\n",
       "2       3     30\n",
       "3       4     40\n",
       "4       5     50\n",
       "5       6     60\n",
       "6       7     70\n",
       "7       8     80\n",
       "8       9     90\n",
       "9      10    100"
      ]
     },
     "execution_count": 141,
     "metadata": {},
     "output_type": "execute_result"
    }
   ],
   "source": [
    "# import pandas library\n",
    "\n",
    "import pandas as pd\n",
    "\n",
    "#create d adataframe\n",
    "data = {\"months\": [1,2,3,4,5,6,7,8,9,10], \"sales\": [10,20,30,40,50,60,70,80,90,100]}\n",
    "data_frame = pd.DataFrame(data)\n",
    "data_frame"
   ]
  },
  {
   "cell_type": "code",
   "execution_count": 146,
   "id": "ef6bbaac",
   "metadata": {},
   "outputs": [
    {
     "data": {
      "text/html": [
       "<div>\n",
       "<style scoped>\n",
       "    .dataframe tbody tr th:only-of-type {\n",
       "        vertical-align: middle;\n",
       "    }\n",
       "\n",
       "    .dataframe tbody tr th {\n",
       "        vertical-align: top;\n",
       "    }\n",
       "\n",
       "    .dataframe thead th {\n",
       "        text-align: right;\n",
       "    }\n",
       "</style>\n",
       "<table border=\"1\" class=\"dataframe\">\n",
       "  <thead>\n",
       "    <tr style=\"text-align: right;\">\n",
       "      <th></th>\n",
       "      <th>months</th>\n",
       "      <th>sales</th>\n",
       "    </tr>\n",
       "  </thead>\n",
       "  <tbody>\n",
       "    <tr>\n",
       "      <th>count</th>\n",
       "      <td>10.00000</td>\n",
       "      <td>10.000000</td>\n",
       "    </tr>\n",
       "    <tr>\n",
       "      <th>mean</th>\n",
       "      <td>5.50000</td>\n",
       "      <td>55.000000</td>\n",
       "    </tr>\n",
       "    <tr>\n",
       "      <th>std</th>\n",
       "      <td>3.02765</td>\n",
       "      <td>30.276504</td>\n",
       "    </tr>\n",
       "    <tr>\n",
       "      <th>min</th>\n",
       "      <td>1.00000</td>\n",
       "      <td>10.000000</td>\n",
       "    </tr>\n",
       "    <tr>\n",
       "      <th>25%</th>\n",
       "      <td>3.25000</td>\n",
       "      <td>32.500000</td>\n",
       "    </tr>\n",
       "    <tr>\n",
       "      <th>50%</th>\n",
       "      <td>5.50000</td>\n",
       "      <td>55.000000</td>\n",
       "    </tr>\n",
       "    <tr>\n",
       "      <th>75%</th>\n",
       "      <td>7.75000</td>\n",
       "      <td>77.500000</td>\n",
       "    </tr>\n",
       "    <tr>\n",
       "      <th>max</th>\n",
       "      <td>10.00000</td>\n",
       "      <td>100.000000</td>\n",
       "    </tr>\n",
       "  </tbody>\n",
       "</table>\n",
       "</div>"
      ],
      "text/plain": [
       "         months       sales\n",
       "count  10.00000   10.000000\n",
       "mean    5.50000   55.000000\n",
       "std     3.02765   30.276504\n",
       "min     1.00000   10.000000\n",
       "25%     3.25000   32.500000\n",
       "50%     5.50000   55.000000\n",
       "75%     7.75000   77.500000\n",
       "max    10.00000  100.000000"
      ]
     },
     "execution_count": 146,
     "metadata": {},
     "output_type": "execute_result"
    }
   ],
   "source": [
    "data_frame.describe()"
   ]
  },
  {
   "cell_type": "code",
   "execution_count": 148,
   "id": "593431e8",
   "metadata": {},
   "outputs": [
    {
     "name": "stdout",
     "output_type": "stream",
     "text": [
      "months     2\n",
      "sales     20\n",
      "Name: 1, dtype: int64\n"
     ]
    }
   ],
   "source": [
    "#select series from row/column of data_frame\n",
    "print(type(data_frame.iloc[1]) "
   ]
  },
  {
   "cell_type": "code",
   "execution_count": 144,
   "id": "55d528cc",
   "metadata": {},
   "outputs": [
    {
     "name": "stdout",
     "output_type": "stream",
     "text": [
      "   jan  feb  mar  apr   may\n",
      "0  100  200  300  400   500\n",
      "1  200  400  600  800  1000\n"
     ]
    }
   ],
   "source": [
    "#using ndarray, create another dataframe\n",
    "\n",
    "sales_array = np.array([[100, 200, 300, 400, 500],[200, 400, 600, 800, 1000]])\n",
    "columns = ['jan', 'feb', 'mar', 'apr', 'may']\n",
    "index = range(2)\n",
    "df = pd.DataFrame(data=sales_array, columns=columns, index=index)\n",
    "print(df)"
   ]
  },
  {
   "cell_type": "code",
   "execution_count": 151,
   "id": "2f8ae76b",
   "metadata": {},
   "outputs": [
    {
     "name": "stdout",
     "output_type": "stream",
     "text": [
      "C:\\Users\\user\n"
     ]
    }
   ],
   "source": [
    "cd\n"
   ]
  },
  {
   "cell_type": "code",
   "execution_count": 154,
   "id": "13e18e58",
   "metadata": {},
   "outputs": [
    {
     "data": {
      "text/html": [
       "<div>\n",
       "<style scoped>\n",
       "    .dataframe tbody tr th:only-of-type {\n",
       "        vertical-align: middle;\n",
       "    }\n",
       "\n",
       "    .dataframe tbody tr th {\n",
       "        vertical-align: top;\n",
       "    }\n",
       "\n",
       "    .dataframe thead th {\n",
       "        text-align: right;\n",
       "    }\n",
       "</style>\n",
       "<table border=\"1\" class=\"dataframe\">\n",
       "  <thead>\n",
       "    <tr style=\"text-align: right;\">\n",
       "      <th></th>\n",
       "      <th>Product_ID</th>\n",
       "      <th>Product_Name</th>\n",
       "      <th>Product_Category</th>\n",
       "      <th>Product_Cost</th>\n",
       "      <th>Product_Price</th>\n",
       "    </tr>\n",
       "  </thead>\n",
       "  <tbody>\n",
       "    <tr>\n",
       "      <th>0</th>\n",
       "      <td>1</td>\n",
       "      <td>Action Figure</td>\n",
       "      <td>Toys</td>\n",
       "      <td>$9.99</td>\n",
       "      <td>$15.99</td>\n",
       "    </tr>\n",
       "    <tr>\n",
       "      <th>1</th>\n",
       "      <td>2</td>\n",
       "      <td>Animal Figures</td>\n",
       "      <td>Toys</td>\n",
       "      <td>$9.99</td>\n",
       "      <td>$12.99</td>\n",
       "    </tr>\n",
       "    <tr>\n",
       "      <th>2</th>\n",
       "      <td>3</td>\n",
       "      <td>Barrel O' Slime</td>\n",
       "      <td>Art &amp; Crafts</td>\n",
       "      <td>$1.99</td>\n",
       "      <td>$3.99</td>\n",
       "    </tr>\n",
       "    <tr>\n",
       "      <th>3</th>\n",
       "      <td>4</td>\n",
       "      <td>Chutes &amp; Ladders</td>\n",
       "      <td>Games</td>\n",
       "      <td>$9.99</td>\n",
       "      <td>$12.99</td>\n",
       "    </tr>\n",
       "    <tr>\n",
       "      <th>4</th>\n",
       "      <td>5</td>\n",
       "      <td>Classic Dominoes</td>\n",
       "      <td>Games</td>\n",
       "      <td>$7.99</td>\n",
       "      <td>$9.99</td>\n",
       "    </tr>\n",
       "  </tbody>\n",
       "</table>\n",
       "</div>"
      ],
      "text/plain": [
       "   Product_ID      Product_Name Product_Category Product_Cost Product_Price\n",
       "0           1     Action Figure             Toys       $9.99        $15.99 \n",
       "1           2    Animal Figures             Toys       $9.99        $12.99 \n",
       "2           3   Barrel O' Slime     Art & Crafts       $1.99         $3.99 \n",
       "3           4  Chutes & Ladders            Games       $9.99        $12.99 \n",
       "4           5  Classic Dominoes            Games       $7.99         $9.99 "
      ]
     },
     "execution_count": 154,
     "metadata": {},
     "output_type": "execute_result"
    }
   ],
   "source": [
    "#load csv file\n",
    "path = \"products.csv\"\n",
    "products = pd.read_csv(path)\n",
    "products.head() #inspect the dataset"
   ]
  },
  {
   "cell_type": "code",
   "execution_count": 155,
   "id": "aa43c2c2",
   "metadata": {},
   "outputs": [
    {
     "data": {
      "text/plain": [
       "Index(['Product_ID', 'Product_Name', 'Product_Category', 'Product_Cost',\n",
       "       'Product_Price'],\n",
       "      dtype='object')"
      ]
     },
     "execution_count": 155,
     "metadata": {},
     "output_type": "execute_result"
    }
   ],
   "source": [
    "#inspect columns of products dataset\n",
    "\n",
    "products.columns"
   ]
  },
  {
   "cell_type": "code",
   "execution_count": 159,
   "id": "2ad46e55",
   "metadata": {},
   "outputs": [
    {
     "name": "stdout",
     "output_type": "stream",
     "text": [
      "number of rows is:35 and number of columns is: 5\n"
     ]
    }
   ],
   "source": [
    "#check number of columns and rows contained in products dataset\n",
    "\n",
    "print(f\"number of rows is:{products.shape[0]} and number of columns is: {products.shape[1]}\")"
   ]
  },
  {
   "cell_type": "code",
   "execution_count": 160,
   "id": "c5e1c1fd",
   "metadata": {},
   "outputs": [
    {
     "name": "stdout",
     "output_type": "stream",
     "text": [
      "<class 'pandas.core.frame.DataFrame'>\n",
      "RangeIndex: 35 entries, 0 to 34\n",
      "Data columns (total 5 columns):\n",
      " #   Column            Non-Null Count  Dtype \n",
      "---  ------            --------------  ----- \n",
      " 0   Product_ID        35 non-null     int64 \n",
      " 1   Product_Name      35 non-null     object\n",
      " 2   Product_Category  35 non-null     object\n",
      " 3   Product_Cost      35 non-null     object\n",
      " 4   Product_Price     35 non-null     object\n",
      "dtypes: int64(1), object(4)\n",
      "memory usage: 1.5+ KB\n"
     ]
    }
   ],
   "source": [
    "#summary information about the dataset\n",
    "products.info()"
   ]
  },
  {
   "cell_type": "code",
   "execution_count": 162,
   "id": "00a2813e",
   "metadata": {},
   "outputs": [
    {
     "data": {
      "text/plain": [
       "0    $9.99 \n",
       "1    $9.99 \n",
       "2    $1.99 \n",
       "3    $9.99 \n",
       "4    $7.99 \n",
       "Name: Product_Cost, dtype: object"
      ]
     },
     "execution_count": 162,
     "metadata": {},
     "output_type": "execute_result"
    }
   ],
   "source": [
    "#return a series object of a column \n",
    "products['Product_Cost'].head()"
   ]
  },
  {
   "cell_type": "code",
   "execution_count": 165,
   "id": "b2c64e82",
   "metadata": {},
   "outputs": [
    {
     "data": {
      "text/html": [
       "<div>\n",
       "<style scoped>\n",
       "    .dataframe tbody tr th:only-of-type {\n",
       "        vertical-align: middle;\n",
       "    }\n",
       "\n",
       "    .dataframe tbody tr th {\n",
       "        vertical-align: top;\n",
       "    }\n",
       "\n",
       "    .dataframe thead th {\n",
       "        text-align: right;\n",
       "    }\n",
       "</style>\n",
       "<table border=\"1\" class=\"dataframe\">\n",
       "  <thead>\n",
       "    <tr style=\"text-align: right;\">\n",
       "      <th></th>\n",
       "      <th>Product_ID</th>\n",
       "      <th>Product_Name</th>\n",
       "      <th>Product_Category</th>\n",
       "      <th>Product_Cost</th>\n",
       "      <th>Product_Price</th>\n",
       "    </tr>\n",
       "  </thead>\n",
       "  <tbody>\n",
       "    <tr>\n",
       "      <th>0</th>\n",
       "      <td>1</td>\n",
       "      <td>Action Figure</td>\n",
       "      <td>Toys</td>\n",
       "      <td>$9.99</td>\n",
       "      <td>$15.99</td>\n",
       "    </tr>\n",
       "  </tbody>\n",
       "</table>\n",
       "</div>"
      ],
      "text/plain": [
       "   Product_ID   Product_Name Product_Category Product_Cost Product_Price\n",
       "0           1  Action Figure             Toys       $9.99        $15.99 "
      ]
     },
     "execution_count": 165,
     "metadata": {},
     "output_type": "execute_result"
    }
   ],
   "source": [
    "#using iloc to select rows and columns by index\n",
    "products.iloc[[0]] #first row selected"
   ]
  },
  {
   "cell_type": "code",
   "execution_count": 168,
   "id": "c070ab7e",
   "metadata": {},
   "outputs": [
    {
     "data": {
      "text/html": [
       "<div>\n",
       "<style scoped>\n",
       "    .dataframe tbody tr th:only-of-type {\n",
       "        vertical-align: middle;\n",
       "    }\n",
       "\n",
       "    .dataframe tbody tr th {\n",
       "        vertical-align: top;\n",
       "    }\n",
       "\n",
       "    .dataframe thead th {\n",
       "        text-align: right;\n",
       "    }\n",
       "</style>\n",
       "<table border=\"1\" class=\"dataframe\">\n",
       "  <thead>\n",
       "    <tr style=\"text-align: right;\">\n",
       "      <th></th>\n",
       "      <th>Product_ID</th>\n",
       "      <th>Product_Name</th>\n",
       "      <th>Product_Category</th>\n",
       "      <th>Product_Cost</th>\n",
       "      <th>Product_Price</th>\n",
       "    </tr>\n",
       "  </thead>\n",
       "  <tbody>\n",
       "    <tr>\n",
       "      <th>0</th>\n",
       "      <td>1</td>\n",
       "      <td>Action Figure</td>\n",
       "      <td>Toys</td>\n",
       "      <td>$9.99</td>\n",
       "      <td>$15.99</td>\n",
       "    </tr>\n",
       "    <tr>\n",
       "      <th>1</th>\n",
       "      <td>2</td>\n",
       "      <td>Animal Figures</td>\n",
       "      <td>Toys</td>\n",
       "      <td>$9.99</td>\n",
       "      <td>$12.99</td>\n",
       "    </tr>\n",
       "    <tr>\n",
       "      <th>2</th>\n",
       "      <td>3</td>\n",
       "      <td>Barrel O' Slime</td>\n",
       "      <td>Art &amp; Crafts</td>\n",
       "      <td>$1.99</td>\n",
       "      <td>$3.99</td>\n",
       "    </tr>\n",
       "    <tr>\n",
       "      <th>3</th>\n",
       "      <td>4</td>\n",
       "      <td>Chutes &amp; Ladders</td>\n",
       "      <td>Games</td>\n",
       "      <td>$9.99</td>\n",
       "      <td>$12.99</td>\n",
       "    </tr>\n",
       "  </tbody>\n",
       "</table>\n",
       "</div>"
      ],
      "text/plain": [
       "   Product_ID      Product_Name Product_Category Product_Cost Product_Price\n",
       "0           1     Action Figure             Toys       $9.99        $15.99 \n",
       "1           2    Animal Figures             Toys       $9.99        $12.99 \n",
       "2           3   Barrel O' Slime     Art & Crafts       $1.99         $3.99 \n",
       "3           4  Chutes & Ladders            Games       $9.99        $12.99 "
      ]
     },
     "execution_count": 168,
     "metadata": {},
     "output_type": "execute_result"
    }
   ],
   "source": [
    "#slice rows based on iloc\n",
    "products.iloc[:4] #select top 4 rows"
   ]
  },
  {
   "cell_type": "code",
   "execution_count": 172,
   "id": "444ec8f0",
   "metadata": {},
   "outputs": [
    {
     "data": {
      "text/html": [
       "<div>\n",
       "<style scoped>\n",
       "    .dataframe tbody tr th:only-of-type {\n",
       "        vertical-align: middle;\n",
       "    }\n",
       "\n",
       "    .dataframe tbody tr th {\n",
       "        vertical-align: top;\n",
       "    }\n",
       "\n",
       "    .dataframe thead th {\n",
       "        text-align: right;\n",
       "    }\n",
       "</style>\n",
       "<table border=\"1\" class=\"dataframe\">\n",
       "  <thead>\n",
       "    <tr style=\"text-align: right;\">\n",
       "      <th></th>\n",
       "      <th>Product_ID</th>\n",
       "      <th>Product_Name</th>\n",
       "    </tr>\n",
       "  </thead>\n",
       "  <tbody>\n",
       "    <tr>\n",
       "      <th>0</th>\n",
       "      <td>1</td>\n",
       "      <td>Action Figure</td>\n",
       "    </tr>\n",
       "    <tr>\n",
       "      <th>1</th>\n",
       "      <td>2</td>\n",
       "      <td>Animal Figures</td>\n",
       "    </tr>\n",
       "    <tr>\n",
       "      <th>2</th>\n",
       "      <td>3</td>\n",
       "      <td>Barrel O' Slime</td>\n",
       "    </tr>\n",
       "    <tr>\n",
       "      <th>3</th>\n",
       "      <td>4</td>\n",
       "      <td>Chutes &amp; Ladders</td>\n",
       "    </tr>\n",
       "    <tr>\n",
       "      <th>4</th>\n",
       "      <td>5</td>\n",
       "      <td>Classic Dominoes</td>\n",
       "    </tr>\n",
       "    <tr>\n",
       "      <th>5</th>\n",
       "      <td>6</td>\n",
       "      <td>Colorbuds</td>\n",
       "    </tr>\n",
       "  </tbody>\n",
       "</table>\n",
       "</div>"
      ],
      "text/plain": [
       "   Product_ID      Product_Name\n",
       "0           1     Action Figure\n",
       "1           2    Animal Figures\n",
       "2           3   Barrel O' Slime\n",
       "3           4  Chutes & Ladders\n",
       "4           5  Classic Dominoes\n",
       "5           6         Colorbuds"
      ]
     },
     "execution_count": 172,
     "metadata": {},
     "output_type": "execute_result"
    }
   ],
   "source": [
    "#subset of rows and columns\n",
    "products.iloc[:6, 0:2] #top 6 rows and top 2 columns"
   ]
  },
  {
   "cell_type": "code",
   "execution_count": 173,
   "id": "0725f35a",
   "metadata": {},
   "outputs": [
    {
     "data": {
      "text/html": [
       "<div>\n",
       "<style scoped>\n",
       "    .dataframe tbody tr th:only-of-type {\n",
       "        vertical-align: middle;\n",
       "    }\n",
       "\n",
       "    .dataframe tbody tr th {\n",
       "        vertical-align: top;\n",
       "    }\n",
       "\n",
       "    .dataframe thead th {\n",
       "        text-align: right;\n",
       "    }\n",
       "</style>\n",
       "<table border=\"1\" class=\"dataframe\">\n",
       "  <thead>\n",
       "    <tr style=\"text-align: right;\">\n",
       "      <th></th>\n",
       "      <th>Product_ID</th>\n",
       "      <th>Product_Name</th>\n",
       "      <th>Product_Category</th>\n",
       "    </tr>\n",
       "  </thead>\n",
       "  <tbody>\n",
       "    <tr>\n",
       "      <th>0</th>\n",
       "      <td>1</td>\n",
       "      <td>Action Figure</td>\n",
       "      <td>Toys</td>\n",
       "    </tr>\n",
       "    <tr>\n",
       "      <th>1</th>\n",
       "      <td>2</td>\n",
       "      <td>Animal Figures</td>\n",
       "      <td>Toys</td>\n",
       "    </tr>\n",
       "    <tr>\n",
       "      <th>2</th>\n",
       "      <td>3</td>\n",
       "      <td>Barrel O' Slime</td>\n",
       "      <td>Art &amp; Crafts</td>\n",
       "    </tr>\n",
       "    <tr>\n",
       "      <th>3</th>\n",
       "      <td>4</td>\n",
       "      <td>Chutes &amp; Ladders</td>\n",
       "      <td>Games</td>\n",
       "    </tr>\n",
       "    <tr>\n",
       "      <th>4</th>\n",
       "      <td>5</td>\n",
       "      <td>Classic Dominoes</td>\n",
       "      <td>Games</td>\n",
       "    </tr>\n",
       "    <tr>\n",
       "      <th>5</th>\n",
       "      <td>6</td>\n",
       "      <td>Colorbuds</td>\n",
       "      <td>Electronics</td>\n",
       "    </tr>\n",
       "    <tr>\n",
       "      <th>6</th>\n",
       "      <td>7</td>\n",
       "      <td>Dart Gun</td>\n",
       "      <td>Sports &amp; Outdoors</td>\n",
       "    </tr>\n",
       "    <tr>\n",
       "      <th>7</th>\n",
       "      <td>8</td>\n",
       "      <td>Deck Of Cards</td>\n",
       "      <td>Games</td>\n",
       "    </tr>\n",
       "    <tr>\n",
       "      <th>8</th>\n",
       "      <td>9</td>\n",
       "      <td>Dino Egg</td>\n",
       "      <td>Toys</td>\n",
       "    </tr>\n",
       "    <tr>\n",
       "      <th>9</th>\n",
       "      <td>10</td>\n",
       "      <td>Dinosaur Figures</td>\n",
       "      <td>Toys</td>\n",
       "    </tr>\n",
       "    <tr>\n",
       "      <th>10</th>\n",
       "      <td>11</td>\n",
       "      <td>Etch A Sketch</td>\n",
       "      <td>Art &amp; Crafts</td>\n",
       "    </tr>\n",
       "    <tr>\n",
       "      <th>11</th>\n",
       "      <td>12</td>\n",
       "      <td>Foam Disk Launcher</td>\n",
       "      <td>Sports &amp; Outdoors</td>\n",
       "    </tr>\n",
       "    <tr>\n",
       "      <th>12</th>\n",
       "      <td>13</td>\n",
       "      <td>Gamer Headphones</td>\n",
       "      <td>Electronics</td>\n",
       "    </tr>\n",
       "    <tr>\n",
       "      <th>13</th>\n",
       "      <td>14</td>\n",
       "      <td>Glass Marbles</td>\n",
       "      <td>Games</td>\n",
       "    </tr>\n",
       "    <tr>\n",
       "      <th>14</th>\n",
       "      <td>15</td>\n",
       "      <td>Hot Wheels 5-Pack</td>\n",
       "      <td>Toys</td>\n",
       "    </tr>\n",
       "    <tr>\n",
       "      <th>15</th>\n",
       "      <td>16</td>\n",
       "      <td>Jenga</td>\n",
       "      <td>Games</td>\n",
       "    </tr>\n",
       "    <tr>\n",
       "      <th>16</th>\n",
       "      <td>17</td>\n",
       "      <td>Kids Makeup Kit</td>\n",
       "      <td>Art &amp; Crafts</td>\n",
       "    </tr>\n",
       "    <tr>\n",
       "      <th>17</th>\n",
       "      <td>18</td>\n",
       "      <td>Lego Bricks</td>\n",
       "      <td>Toys</td>\n",
       "    </tr>\n",
       "    <tr>\n",
       "      <th>18</th>\n",
       "      <td>19</td>\n",
       "      <td>Magic Sand</td>\n",
       "      <td>Art &amp; Crafts</td>\n",
       "    </tr>\n",
       "    <tr>\n",
       "      <th>19</th>\n",
       "      <td>20</td>\n",
       "      <td>Mini Basketball Hoop</td>\n",
       "      <td>Sports &amp; Outdoors</td>\n",
       "    </tr>\n",
       "    <tr>\n",
       "      <th>20</th>\n",
       "      <td>21</td>\n",
       "      <td>Mini Ping Pong Set</td>\n",
       "      <td>Sports &amp; Outdoors</td>\n",
       "    </tr>\n",
       "    <tr>\n",
       "      <th>21</th>\n",
       "      <td>22</td>\n",
       "      <td>Monopoly</td>\n",
       "      <td>Games</td>\n",
       "    </tr>\n",
       "    <tr>\n",
       "      <th>22</th>\n",
       "      <td>23</td>\n",
       "      <td>Mr. Potatohead</td>\n",
       "      <td>Toys</td>\n",
       "    </tr>\n",
       "    <tr>\n",
       "      <th>23</th>\n",
       "      <td>24</td>\n",
       "      <td>Nerf Gun</td>\n",
       "      <td>Sports &amp; Outdoors</td>\n",
       "    </tr>\n",
       "    <tr>\n",
       "      <th>24</th>\n",
       "      <td>25</td>\n",
       "      <td>PlayDoh Can</td>\n",
       "      <td>Art &amp; Crafts</td>\n",
       "    </tr>\n",
       "    <tr>\n",
       "      <th>25</th>\n",
       "      <td>26</td>\n",
       "      <td>PlayDoh Playset</td>\n",
       "      <td>Art &amp; Crafts</td>\n",
       "    </tr>\n",
       "    <tr>\n",
       "      <th>26</th>\n",
       "      <td>27</td>\n",
       "      <td>PlayDoh Toolkit</td>\n",
       "      <td>Art &amp; Crafts</td>\n",
       "    </tr>\n",
       "    <tr>\n",
       "      <th>27</th>\n",
       "      <td>28</td>\n",
       "      <td>Playfoam</td>\n",
       "      <td>Art &amp; Crafts</td>\n",
       "    </tr>\n",
       "    <tr>\n",
       "      <th>28</th>\n",
       "      <td>29</td>\n",
       "      <td>Plush Pony</td>\n",
       "      <td>Toys</td>\n",
       "    </tr>\n",
       "    <tr>\n",
       "      <th>29</th>\n",
       "      <td>30</td>\n",
       "      <td>Rubik's Cube</td>\n",
       "      <td>Games</td>\n",
       "    </tr>\n",
       "    <tr>\n",
       "      <th>30</th>\n",
       "      <td>31</td>\n",
       "      <td>Splash Balls</td>\n",
       "      <td>Sports &amp; Outdoors</td>\n",
       "    </tr>\n",
       "    <tr>\n",
       "      <th>31</th>\n",
       "      <td>32</td>\n",
       "      <td>Supersoaker Water Gun</td>\n",
       "      <td>Sports &amp; Outdoors</td>\n",
       "    </tr>\n",
       "    <tr>\n",
       "      <th>32</th>\n",
       "      <td>33</td>\n",
       "      <td>Teddy Bear</td>\n",
       "      <td>Toys</td>\n",
       "    </tr>\n",
       "    <tr>\n",
       "      <th>33</th>\n",
       "      <td>34</td>\n",
       "      <td>Toy Robot</td>\n",
       "      <td>Electronics</td>\n",
       "    </tr>\n",
       "    <tr>\n",
       "      <th>34</th>\n",
       "      <td>35</td>\n",
       "      <td>Uno Card Game</td>\n",
       "      <td>Games</td>\n",
       "    </tr>\n",
       "  </tbody>\n",
       "</table>\n",
       "</div>"
      ],
      "text/plain": [
       "    Product_ID           Product_Name   Product_Category\n",
       "0            1          Action Figure               Toys\n",
       "1            2         Animal Figures               Toys\n",
       "2            3        Barrel O' Slime       Art & Crafts\n",
       "3            4       Chutes & Ladders              Games\n",
       "4            5       Classic Dominoes              Games\n",
       "5            6              Colorbuds        Electronics\n",
       "6            7               Dart Gun  Sports & Outdoors\n",
       "7            8          Deck Of Cards              Games\n",
       "8            9               Dino Egg               Toys\n",
       "9           10       Dinosaur Figures               Toys\n",
       "10          11          Etch A Sketch       Art & Crafts\n",
       "11          12     Foam Disk Launcher  Sports & Outdoors\n",
       "12          13       Gamer Headphones        Electronics\n",
       "13          14          Glass Marbles              Games\n",
       "14          15      Hot Wheels 5-Pack               Toys\n",
       "15          16                  Jenga              Games\n",
       "16          17        Kids Makeup Kit       Art & Crafts\n",
       "17          18            Lego Bricks               Toys\n",
       "18          19             Magic Sand       Art & Crafts\n",
       "19          20   Mini Basketball Hoop  Sports & Outdoors\n",
       "20          21     Mini Ping Pong Set  Sports & Outdoors\n",
       "21          22               Monopoly              Games\n",
       "22          23         Mr. Potatohead               Toys\n",
       "23          24               Nerf Gun  Sports & Outdoors\n",
       "24          25            PlayDoh Can       Art & Crafts\n",
       "25          26        PlayDoh Playset       Art & Crafts\n",
       "26          27        PlayDoh Toolkit       Art & Crafts\n",
       "27          28               Playfoam       Art & Crafts\n",
       "28          29             Plush Pony               Toys\n",
       "29          30           Rubik's Cube              Games\n",
       "30          31           Splash Balls  Sports & Outdoors\n",
       "31          32  Supersoaker Water Gun  Sports & Outdoors\n",
       "32          33             Teddy Bear               Toys\n",
       "33          34              Toy Robot        Electronics\n",
       "34          35          Uno Card Game              Games"
      ]
     },
     "execution_count": 173,
     "metadata": {},
     "output_type": "execute_result"
    }
   ],
   "source": [
    "#select all rows for the first 3 columns\n",
    "products.iloc[:, 0:3]"
   ]
  },
  {
   "cell_type": "code",
   "execution_count": 189,
   "id": "ca6e057e",
   "metadata": {},
   "outputs": [
    {
     "data": {
      "text/plain": [
       "dtype('float64')"
      ]
     },
     "execution_count": 189,
     "metadata": {},
     "output_type": "execute_result"
    }
   ],
   "source": [
    "#convert Product_Cost and Product_Price into float data type\n",
    "\n",
    "products[\"Product_Cost\"] = products[\"Product_Cost\"].replace(\"$\", \"\") #remove dollar sign\n",
    "products[\"Product_Cost\"] = products[\"Product_Cost\"].astype('float')\n",
    "products[\"Product_Cost\"].dtype"
   ]
  },
  {
   "cell_type": "code",
   "execution_count": 204,
   "id": "806351a9",
   "metadata": {},
   "outputs": [
    {
     "data": {
      "text/html": [
       "<div>\n",
       "<style scoped>\n",
       "    .dataframe tbody tr th:only-of-type {\n",
       "        vertical-align: middle;\n",
       "    }\n",
       "\n",
       "    .dataframe tbody tr th {\n",
       "        vertical-align: top;\n",
       "    }\n",
       "\n",
       "    .dataframe thead th {\n",
       "        text-align: right;\n",
       "    }\n",
       "</style>\n",
       "<table border=\"1\" class=\"dataframe\">\n",
       "  <thead>\n",
       "    <tr style=\"text-align: right;\">\n",
       "      <th></th>\n",
       "      <th>Product_ID</th>\n",
       "      <th>Product_Name</th>\n",
       "      <th>Product_Category</th>\n",
       "      <th>Product_Cost</th>\n",
       "      <th>Product_Price</th>\n",
       "    </tr>\n",
       "  </thead>\n",
       "  <tbody>\n",
       "    <tr>\n",
       "      <th>0</th>\n",
       "      <td>1</td>\n",
       "      <td>Action Figure</td>\n",
       "      <td>Toys</td>\n",
       "      <td>9.99</td>\n",
       "      <td>15.99</td>\n",
       "    </tr>\n",
       "    <tr>\n",
       "      <th>1</th>\n",
       "      <td>2</td>\n",
       "      <td>Animal Figures</td>\n",
       "      <td>Toys</td>\n",
       "      <td>9.99</td>\n",
       "      <td>12.99</td>\n",
       "    </tr>\n",
       "    <tr>\n",
       "      <th>2</th>\n",
       "      <td>3</td>\n",
       "      <td>Barrel O' Slime</td>\n",
       "      <td>Art &amp; Crafts</td>\n",
       "      <td>1.99</td>\n",
       "      <td>3.99</td>\n",
       "    </tr>\n",
       "    <tr>\n",
       "      <th>3</th>\n",
       "      <td>4</td>\n",
       "      <td>Chutes &amp; Ladders</td>\n",
       "      <td>Games</td>\n",
       "      <td>9.99</td>\n",
       "      <td>12.99</td>\n",
       "    </tr>\n",
       "    <tr>\n",
       "      <th>4</th>\n",
       "      <td>5</td>\n",
       "      <td>Classic Dominoes</td>\n",
       "      <td>Games</td>\n",
       "      <td>7.99</td>\n",
       "      <td>9.99</td>\n",
       "    </tr>\n",
       "  </tbody>\n",
       "</table>\n",
       "</div>"
      ],
      "text/plain": [
       "   Product_ID      Product_Name Product_Category  Product_Cost  Product_Price\n",
       "0           1     Action Figure             Toys          9.99          15.99\n",
       "1           2    Animal Figures             Toys          9.99          12.99\n",
       "2           3   Barrel O' Slime     Art & Crafts          1.99           3.99\n",
       "3           4  Chutes & Ladders            Games          9.99          12.99\n",
       "4           5  Classic Dominoes            Games          7.99           9.99"
      ]
     },
     "execution_count": 204,
     "metadata": {},
     "output_type": "execute_result"
    }
   ],
   "source": [
    "products[\"Product_Price\"] = products[\"Product_Price\"].replace(\"$\", \"\")#remove dollar sign\n",
    "products[\"Product_Price\"] = products[\"Product_Price\"].astype('float')\n",
    "products[\"Product_Price\"].dtype \n",
    "products.head()"
   ]
  },
  {
   "cell_type": "code",
   "execution_count": 205,
   "id": "e207b53c",
   "metadata": {},
   "outputs": [
    {
     "name": "stdout",
     "output_type": "stream",
     "text": [
      "<class 'pandas.core.frame.DataFrame'>\n",
      "RangeIndex: 35 entries, 0 to 34\n",
      "Data columns (total 5 columns):\n",
      " #   Column            Non-Null Count  Dtype  \n",
      "---  ------            --------------  -----  \n",
      " 0   Product_ID        35 non-null     int64  \n",
      " 1   Product_Name      35 non-null     object \n",
      " 2   Product_Category  35 non-null     object \n",
      " 3   Product_Cost      35 non-null     float64\n",
      " 4   Product_Price     35 non-null     float64\n",
      "dtypes: float64(2), int64(1), object(2)\n",
      "memory usage: 1.5+ KB\n"
     ]
    }
   ],
   "source": [
    "products.info()"
   ]
  },
  {
   "cell_type": "code",
   "execution_count": 206,
   "id": "dbaafb9a",
   "metadata": {},
   "outputs": [
    {
     "data": {
      "text/html": [
       "<div>\n",
       "<style scoped>\n",
       "    .dataframe tbody tr th:only-of-type {\n",
       "        vertical-align: middle;\n",
       "    }\n",
       "\n",
       "    .dataframe tbody tr th {\n",
       "        vertical-align: top;\n",
       "    }\n",
       "\n",
       "    .dataframe thead th {\n",
       "        text-align: right;\n",
       "    }\n",
       "</style>\n",
       "<table border=\"1\" class=\"dataframe\">\n",
       "  <thead>\n",
       "    <tr style=\"text-align: right;\">\n",
       "      <th></th>\n",
       "      <th>Product_ID</th>\n",
       "      <th>Product_Cost</th>\n",
       "      <th>Product_Price</th>\n",
       "    </tr>\n",
       "  </thead>\n",
       "  <tbody>\n",
       "    <tr>\n",
       "      <th>count</th>\n",
       "      <td>35.000000</td>\n",
       "      <td>35.000000</td>\n",
       "      <td>35.000000</td>\n",
       "    </tr>\n",
       "    <tr>\n",
       "      <th>mean</th>\n",
       "      <td>18.000000</td>\n",
       "      <td>10.247143</td>\n",
       "      <td>14.761429</td>\n",
       "    </tr>\n",
       "    <tr>\n",
       "      <th>std</th>\n",
       "      <td>10.246951</td>\n",
       "      <td>6.563459</td>\n",
       "      <td>7.491508</td>\n",
       "    </tr>\n",
       "    <tr>\n",
       "      <th>min</th>\n",
       "      <td>1.000000</td>\n",
       "      <td>1.990000</td>\n",
       "      <td>2.990000</td>\n",
       "    </tr>\n",
       "    <tr>\n",
       "      <th>25%</th>\n",
       "      <td>9.500000</td>\n",
       "      <td>5.490000</td>\n",
       "      <td>9.990000</td>\n",
       "    </tr>\n",
       "    <tr>\n",
       "      <th>50%</th>\n",
       "      <td>18.000000</td>\n",
       "      <td>9.990000</td>\n",
       "      <td>12.990000</td>\n",
       "    </tr>\n",
       "    <tr>\n",
       "      <th>75%</th>\n",
       "      <td>26.500000</td>\n",
       "      <td>12.990000</td>\n",
       "      <td>19.990000</td>\n",
       "    </tr>\n",
       "    <tr>\n",
       "      <th>max</th>\n",
       "      <td>35.000000</td>\n",
       "      <td>34.990000</td>\n",
       "      <td>39.990000</td>\n",
       "    </tr>\n",
       "  </tbody>\n",
       "</table>\n",
       "</div>"
      ],
      "text/plain": [
       "       Product_ID  Product_Cost  Product_Price\n",
       "count   35.000000     35.000000      35.000000\n",
       "mean    18.000000     10.247143      14.761429\n",
       "std     10.246951      6.563459       7.491508\n",
       "min      1.000000      1.990000       2.990000\n",
       "25%      9.500000      5.490000       9.990000\n",
       "50%     18.000000      9.990000      12.990000\n",
       "75%     26.500000     12.990000      19.990000\n",
       "max     35.000000     34.990000      39.990000"
      ]
     },
     "execution_count": 206,
     "metadata": {},
     "output_type": "execute_result"
    }
   ],
   "source": [
    "products.describe()"
   ]
  },
  {
   "cell_type": "markdown",
   "id": "fe46b373",
   "metadata": {},
   "source": [
    "## Boolean Masking\n",
    "\n",
    "**Boolean masking**: filtering technique that overlays a Boolean grid onto a dataframe in order to select only the values in the dataframe that align with the True values of the grid."
   ]
  },
  {
   "cell_type": "code",
   "execution_count": 208,
   "id": "96213781",
   "metadata": {},
   "outputs": [
    {
     "data": {
      "text/plain": [
       "0    True\n",
       "1    True\n",
       "2    True\n",
       "3    True\n",
       "4    True\n",
       "Name: Product_Price, dtype: bool"
      ]
     },
     "execution_count": 208,
     "metadata": {},
     "output_type": "execute_result"
    }
   ],
   "source": [
    "#create a boolean mask of 'Product_Price' less than 20\n",
    "price_mask = products[\"Product_Price\"] < 20\n",
    "price_mask.head()"
   ]
  },
  {
   "cell_type": "code",
   "execution_count": 213,
   "id": "eb7287ea",
   "metadata": {},
   "outputs": [
    {
     "data": {
      "text/html": [
       "<div>\n",
       "<style scoped>\n",
       "    .dataframe tbody tr th:only-of-type {\n",
       "        vertical-align: middle;\n",
       "    }\n",
       "\n",
       "    .dataframe tbody tr th {\n",
       "        vertical-align: top;\n",
       "    }\n",
       "\n",
       "    .dataframe thead th {\n",
       "        text-align: right;\n",
       "    }\n",
       "</style>\n",
       "<table border=\"1\" class=\"dataframe\">\n",
       "  <thead>\n",
       "    <tr style=\"text-align: right;\">\n",
       "      <th></th>\n",
       "      <th>Product_ID</th>\n",
       "      <th>Product_Name</th>\n",
       "      <th>Product_Category</th>\n",
       "      <th>Product_Cost</th>\n",
       "      <th>Product_Price</th>\n",
       "    </tr>\n",
       "  </thead>\n",
       "  <tbody>\n",
       "    <tr>\n",
       "      <th>0</th>\n",
       "      <td>1</td>\n",
       "      <td>Action Figure</td>\n",
       "      <td>Toys</td>\n",
       "      <td>9.99</td>\n",
       "      <td>15.99</td>\n",
       "    </tr>\n",
       "    <tr>\n",
       "      <th>1</th>\n",
       "      <td>2</td>\n",
       "      <td>Animal Figures</td>\n",
       "      <td>Toys</td>\n",
       "      <td>9.99</td>\n",
       "      <td>12.99</td>\n",
       "    </tr>\n",
       "    <tr>\n",
       "      <th>2</th>\n",
       "      <td>3</td>\n",
       "      <td>Barrel O' Slime</td>\n",
       "      <td>Art &amp; Crafts</td>\n",
       "      <td>1.99</td>\n",
       "      <td>3.99</td>\n",
       "    </tr>\n",
       "    <tr>\n",
       "      <th>3</th>\n",
       "      <td>4</td>\n",
       "      <td>Chutes &amp; Ladders</td>\n",
       "      <td>Games</td>\n",
       "      <td>9.99</td>\n",
       "      <td>12.99</td>\n",
       "    </tr>\n",
       "    <tr>\n",
       "      <th>4</th>\n",
       "      <td>5</td>\n",
       "      <td>Classic Dominoes</td>\n",
       "      <td>Games</td>\n",
       "      <td>7.99</td>\n",
       "      <td>9.99</td>\n",
       "    </tr>\n",
       "    <tr>\n",
       "      <th>5</th>\n",
       "      <td>6</td>\n",
       "      <td>Colorbuds</td>\n",
       "      <td>Electronics</td>\n",
       "      <td>6.99</td>\n",
       "      <td>14.99</td>\n",
       "    </tr>\n",
       "    <tr>\n",
       "      <th>6</th>\n",
       "      <td>7</td>\n",
       "      <td>Dart Gun</td>\n",
       "      <td>Sports &amp; Outdoors</td>\n",
       "      <td>11.99</td>\n",
       "      <td>15.99</td>\n",
       "    </tr>\n",
       "    <tr>\n",
       "      <th>7</th>\n",
       "      <td>8</td>\n",
       "      <td>Deck Of Cards</td>\n",
       "      <td>Games</td>\n",
       "      <td>3.99</td>\n",
       "      <td>6.99</td>\n",
       "    </tr>\n",
       "    <tr>\n",
       "      <th>8</th>\n",
       "      <td>9</td>\n",
       "      <td>Dino Egg</td>\n",
       "      <td>Toys</td>\n",
       "      <td>9.99</td>\n",
       "      <td>10.99</td>\n",
       "    </tr>\n",
       "    <tr>\n",
       "      <th>9</th>\n",
       "      <td>10</td>\n",
       "      <td>Dinosaur Figures</td>\n",
       "      <td>Toys</td>\n",
       "      <td>10.99</td>\n",
       "      <td>14.99</td>\n",
       "    </tr>\n",
       "    <tr>\n",
       "      <th>11</th>\n",
       "      <td>12</td>\n",
       "      <td>Foam Disk Launcher</td>\n",
       "      <td>Sports &amp; Outdoors</td>\n",
       "      <td>8.99</td>\n",
       "      <td>11.99</td>\n",
       "    </tr>\n",
       "    <tr>\n",
       "      <th>13</th>\n",
       "      <td>14</td>\n",
       "      <td>Glass Marbles</td>\n",
       "      <td>Games</td>\n",
       "      <td>5.99</td>\n",
       "      <td>10.99</td>\n",
       "    </tr>\n",
       "    <tr>\n",
       "      <th>14</th>\n",
       "      <td>15</td>\n",
       "      <td>Hot Wheels 5-Pack</td>\n",
       "      <td>Toys</td>\n",
       "      <td>3.99</td>\n",
       "      <td>5.99</td>\n",
       "    </tr>\n",
       "    <tr>\n",
       "      <th>15</th>\n",
       "      <td>16</td>\n",
       "      <td>Jenga</td>\n",
       "      <td>Games</td>\n",
       "      <td>2.99</td>\n",
       "      <td>9.99</td>\n",
       "    </tr>\n",
       "    <tr>\n",
       "      <th>16</th>\n",
       "      <td>17</td>\n",
       "      <td>Kids Makeup Kit</td>\n",
       "      <td>Art &amp; Crafts</td>\n",
       "      <td>13.99</td>\n",
       "      <td>19.99</td>\n",
       "    </tr>\n",
       "    <tr>\n",
       "      <th>18</th>\n",
       "      <td>19</td>\n",
       "      <td>Magic Sand</td>\n",
       "      <td>Art &amp; Crafts</td>\n",
       "      <td>13.99</td>\n",
       "      <td>15.99</td>\n",
       "    </tr>\n",
       "    <tr>\n",
       "      <th>20</th>\n",
       "      <td>21</td>\n",
       "      <td>Mini Ping Pong Set</td>\n",
       "      <td>Sports &amp; Outdoors</td>\n",
       "      <td>6.99</td>\n",
       "      <td>9.99</td>\n",
       "    </tr>\n",
       "    <tr>\n",
       "      <th>21</th>\n",
       "      <td>22</td>\n",
       "      <td>Monopoly</td>\n",
       "      <td>Games</td>\n",
       "      <td>13.99</td>\n",
       "      <td>19.99</td>\n",
       "    </tr>\n",
       "    <tr>\n",
       "      <th>22</th>\n",
       "      <td>23</td>\n",
       "      <td>Mr. Potatohead</td>\n",
       "      <td>Toys</td>\n",
       "      <td>4.99</td>\n",
       "      <td>9.99</td>\n",
       "    </tr>\n",
       "    <tr>\n",
       "      <th>23</th>\n",
       "      <td>24</td>\n",
       "      <td>Nerf Gun</td>\n",
       "      <td>Sports &amp; Outdoors</td>\n",
       "      <td>14.99</td>\n",
       "      <td>19.99</td>\n",
       "    </tr>\n",
       "    <tr>\n",
       "      <th>24</th>\n",
       "      <td>25</td>\n",
       "      <td>PlayDoh Can</td>\n",
       "      <td>Art &amp; Crafts</td>\n",
       "      <td>1.99</td>\n",
       "      <td>2.99</td>\n",
       "    </tr>\n",
       "    <tr>\n",
       "      <th>26</th>\n",
       "      <td>27</td>\n",
       "      <td>PlayDoh Toolkit</td>\n",
       "      <td>Art &amp; Crafts</td>\n",
       "      <td>3.99</td>\n",
       "      <td>4.99</td>\n",
       "    </tr>\n",
       "    <tr>\n",
       "      <th>27</th>\n",
       "      <td>28</td>\n",
       "      <td>Playfoam</td>\n",
       "      <td>Art &amp; Crafts</td>\n",
       "      <td>3.99</td>\n",
       "      <td>10.99</td>\n",
       "    </tr>\n",
       "    <tr>\n",
       "      <th>28</th>\n",
       "      <td>29</td>\n",
       "      <td>Plush Pony</td>\n",
       "      <td>Toys</td>\n",
       "      <td>8.99</td>\n",
       "      <td>19.99</td>\n",
       "    </tr>\n",
       "    <tr>\n",
       "      <th>29</th>\n",
       "      <td>30</td>\n",
       "      <td>Rubik's Cube</td>\n",
       "      <td>Games</td>\n",
       "      <td>17.99</td>\n",
       "      <td>19.99</td>\n",
       "    </tr>\n",
       "    <tr>\n",
       "      <th>30</th>\n",
       "      <td>31</td>\n",
       "      <td>Splash Balls</td>\n",
       "      <td>Sports &amp; Outdoors</td>\n",
       "      <td>7.99</td>\n",
       "      <td>8.99</td>\n",
       "    </tr>\n",
       "    <tr>\n",
       "      <th>31</th>\n",
       "      <td>32</td>\n",
       "      <td>Supersoaker Water Gun</td>\n",
       "      <td>Sports &amp; Outdoors</td>\n",
       "      <td>11.99</td>\n",
       "      <td>14.99</td>\n",
       "    </tr>\n",
       "    <tr>\n",
       "      <th>32</th>\n",
       "      <td>33</td>\n",
       "      <td>Teddy Bear</td>\n",
       "      <td>Toys</td>\n",
       "      <td>10.99</td>\n",
       "      <td>12.99</td>\n",
       "    </tr>\n",
       "    <tr>\n",
       "      <th>34</th>\n",
       "      <td>35</td>\n",
       "      <td>Uno Card Game</td>\n",
       "      <td>Games</td>\n",
       "      <td>3.99</td>\n",
       "      <td>7.99</td>\n",
       "    </tr>\n",
       "  </tbody>\n",
       "</table>\n",
       "</div>"
      ],
      "text/plain": [
       "    Product_ID           Product_Name   Product_Category  Product_Cost  \\\n",
       "0            1          Action Figure               Toys          9.99   \n",
       "1            2         Animal Figures               Toys          9.99   \n",
       "2            3        Barrel O' Slime       Art & Crafts          1.99   \n",
       "3            4       Chutes & Ladders              Games          9.99   \n",
       "4            5       Classic Dominoes              Games          7.99   \n",
       "5            6              Colorbuds        Electronics          6.99   \n",
       "6            7               Dart Gun  Sports & Outdoors         11.99   \n",
       "7            8          Deck Of Cards              Games          3.99   \n",
       "8            9               Dino Egg               Toys          9.99   \n",
       "9           10       Dinosaur Figures               Toys         10.99   \n",
       "11          12     Foam Disk Launcher  Sports & Outdoors          8.99   \n",
       "13          14          Glass Marbles              Games          5.99   \n",
       "14          15      Hot Wheels 5-Pack               Toys          3.99   \n",
       "15          16                  Jenga              Games          2.99   \n",
       "16          17        Kids Makeup Kit       Art & Crafts         13.99   \n",
       "18          19             Magic Sand       Art & Crafts         13.99   \n",
       "20          21     Mini Ping Pong Set  Sports & Outdoors          6.99   \n",
       "21          22               Monopoly              Games         13.99   \n",
       "22          23         Mr. Potatohead               Toys          4.99   \n",
       "23          24               Nerf Gun  Sports & Outdoors         14.99   \n",
       "24          25            PlayDoh Can       Art & Crafts          1.99   \n",
       "26          27        PlayDoh Toolkit       Art & Crafts          3.99   \n",
       "27          28               Playfoam       Art & Crafts          3.99   \n",
       "28          29             Plush Pony               Toys          8.99   \n",
       "29          30           Rubik's Cube              Games         17.99   \n",
       "30          31           Splash Balls  Sports & Outdoors          7.99   \n",
       "31          32  Supersoaker Water Gun  Sports & Outdoors         11.99   \n",
       "32          33             Teddy Bear               Toys         10.99   \n",
       "34          35          Uno Card Game              Games          3.99   \n",
       "\n",
       "    Product_Price  \n",
       "0           15.99  \n",
       "1           12.99  \n",
       "2            3.99  \n",
       "3           12.99  \n",
       "4            9.99  \n",
       "5           14.99  \n",
       "6           15.99  \n",
       "7            6.99  \n",
       "8           10.99  \n",
       "9           14.99  \n",
       "11          11.99  \n",
       "13          10.99  \n",
       "14           5.99  \n",
       "15           9.99  \n",
       "16          19.99  \n",
       "18          15.99  \n",
       "20           9.99  \n",
       "21          19.99  \n",
       "22           9.99  \n",
       "23          19.99  \n",
       "24           2.99  \n",
       "26           4.99  \n",
       "27          10.99  \n",
       "28          19.99  \n",
       "29          19.99  \n",
       "30           8.99  \n",
       "31          14.99  \n",
       "32          12.99  \n",
       "34           7.99  "
      ]
     },
     "execution_count": 213,
     "metadata": {},
     "output_type": "execute_result"
    }
   ],
   "source": [
    "#use price_mask to filter out the data\n",
    "price_less_20 = products[price_mask]\n",
    "price_less_20\n",
    "\n"
   ]
  },
  {
   "cell_type": "code",
   "execution_count": 218,
   "id": "43e7deb4",
   "metadata": {},
   "outputs": [
    {
     "data": {
      "text/html": [
       "<div>\n",
       "<style scoped>\n",
       "    .dataframe tbody tr th:only-of-type {\n",
       "        vertical-align: middle;\n",
       "    }\n",
       "\n",
       "    .dataframe tbody tr th {\n",
       "        vertical-align: top;\n",
       "    }\n",
       "\n",
       "    .dataframe thead th {\n",
       "        text-align: right;\n",
       "    }\n",
       "</style>\n",
       "<table border=\"1\" class=\"dataframe\">\n",
       "  <thead>\n",
       "    <tr style=\"text-align: right;\">\n",
       "      <th></th>\n",
       "      <th>Product_ID</th>\n",
       "      <th>Product_Name</th>\n",
       "      <th>Product_Category</th>\n",
       "      <th>Product_Cost</th>\n",
       "      <th>Product_Price</th>\n",
       "    </tr>\n",
       "  </thead>\n",
       "  <tbody>\n",
       "    <tr>\n",
       "      <th>10</th>\n",
       "      <td>11</td>\n",
       "      <td>Etch A Sketch</td>\n",
       "      <td>Art &amp; Crafts</td>\n",
       "      <td>10.99</td>\n",
       "      <td>20.99</td>\n",
       "    </tr>\n",
       "    <tr>\n",
       "      <th>12</th>\n",
       "      <td>13</td>\n",
       "      <td>Gamer Headphones</td>\n",
       "      <td>Electronics</td>\n",
       "      <td>14.99</td>\n",
       "      <td>20.99</td>\n",
       "    </tr>\n",
       "    <tr>\n",
       "      <th>17</th>\n",
       "      <td>18</td>\n",
       "      <td>Lego Bricks</td>\n",
       "      <td>Toys</td>\n",
       "      <td>34.99</td>\n",
       "      <td>39.99</td>\n",
       "    </tr>\n",
       "    <tr>\n",
       "      <th>19</th>\n",
       "      <td>20</td>\n",
       "      <td>Mini Basketball Hoop</td>\n",
       "      <td>Sports &amp; Outdoors</td>\n",
       "      <td>8.99</td>\n",
       "      <td>24.99</td>\n",
       "    </tr>\n",
       "    <tr>\n",
       "      <th>25</th>\n",
       "      <td>26</td>\n",
       "      <td>PlayDoh Playset</td>\n",
       "      <td>Art &amp; Crafts</td>\n",
       "      <td>20.99</td>\n",
       "      <td>24.99</td>\n",
       "    </tr>\n",
       "    <tr>\n",
       "      <th>33</th>\n",
       "      <td>34</td>\n",
       "      <td>Toy Robot</td>\n",
       "      <td>Electronics</td>\n",
       "      <td>20.99</td>\n",
       "      <td>25.99</td>\n",
       "    </tr>\n",
       "  </tbody>\n",
       "</table>\n",
       "</div>"
      ],
      "text/plain": [
       "    Product_ID          Product_Name   Product_Category  Product_Cost  \\\n",
       "10          11         Etch A Sketch       Art & Crafts         10.99   \n",
       "12          13      Gamer Headphones        Electronics         14.99   \n",
       "17          18           Lego Bricks               Toys         34.99   \n",
       "19          20  Mini Basketball Hoop  Sports & Outdoors          8.99   \n",
       "25          26       PlayDoh Playset       Art & Crafts         20.99   \n",
       "33          34             Toy Robot        Electronics         20.99   \n",
       "\n",
       "    Product_Price  \n",
       "10          20.99  \n",
       "12          20.99  \n",
       "17          39.99  \n",
       "19          24.99  \n",
       "25          24.99  \n",
       "33          25.99  "
      ]
     },
     "execution_count": 218,
     "metadata": {},
     "output_type": "execute_result"
    }
   ],
   "source": [
    "#Using tilde function, filter out products with prices higher than 20\n",
    "price_more_20 = products[~price_mask]\n",
    "price_more_20"
   ]
  },
  {
   "cell_type": "code",
   "execution_count": 229,
   "id": "125826fc",
   "metadata": {},
   "outputs": [
    {
     "data": {
      "text/html": [
       "<div>\n",
       "<style scoped>\n",
       "    .dataframe tbody tr th:only-of-type {\n",
       "        vertical-align: middle;\n",
       "    }\n",
       "\n",
       "    .dataframe tbody tr th {\n",
       "        vertical-align: top;\n",
       "    }\n",
       "\n",
       "    .dataframe thead th {\n",
       "        text-align: right;\n",
       "    }\n",
       "</style>\n",
       "<table border=\"1\" class=\"dataframe\">\n",
       "  <thead>\n",
       "    <tr style=\"text-align: right;\">\n",
       "      <th></th>\n",
       "      <th>Product_ID</th>\n",
       "      <th>Product_Name</th>\n",
       "      <th>Product_Category</th>\n",
       "      <th>Product_Cost</th>\n",
       "      <th>Product_Price</th>\n",
       "    </tr>\n",
       "  </thead>\n",
       "  <tbody>\n",
       "    <tr>\n",
       "      <th>17</th>\n",
       "      <td>18</td>\n",
       "      <td>Lego Bricks</td>\n",
       "      <td>Toys</td>\n",
       "      <td>34.99</td>\n",
       "      <td>39.99</td>\n",
       "    </tr>\n",
       "    <tr>\n",
       "      <th>25</th>\n",
       "      <td>26</td>\n",
       "      <td>PlayDoh Playset</td>\n",
       "      <td>Art &amp; Crafts</td>\n",
       "      <td>20.99</td>\n",
       "      <td>24.99</td>\n",
       "    </tr>\n",
       "    <tr>\n",
       "      <th>29</th>\n",
       "      <td>30</td>\n",
       "      <td>Rubik's Cube</td>\n",
       "      <td>Games</td>\n",
       "      <td>17.99</td>\n",
       "      <td>19.99</td>\n",
       "    </tr>\n",
       "    <tr>\n",
       "      <th>33</th>\n",
       "      <td>34</td>\n",
       "      <td>Toy Robot</td>\n",
       "      <td>Electronics</td>\n",
       "      <td>20.99</td>\n",
       "      <td>25.99</td>\n",
       "    </tr>\n",
       "  </tbody>\n",
       "</table>\n",
       "</div>"
      ],
      "text/plain": [
       "    Product_ID     Product_Name Product_Category  Product_Cost  Product_Price\n",
       "17          18      Lego Bricks             Toys         34.99          39.99\n",
       "25          26  PlayDoh Playset     Art & Crafts         20.99          24.99\n",
       "29          30     Rubik's Cube            Games         17.99          19.99\n",
       "33          34        Toy Robot      Electronics         20.99          25.99"
      ]
     },
     "execution_count": 229,
     "metadata": {},
     "output_type": "execute_result"
    }
   ],
   "source": [
    "#select products whose cost is more than 15 and price is more than 18\n",
    "price_cost_mask = (products[\"Product_Cost\"] > 15) & (products[\"Product_Price\"] > 18)\n",
    "price_cost_mask\n",
    "\n",
    "products_price_cost = products[price_cost_mask]\n",
    "products_price_cost"
   ]
  },
  {
   "cell_type": "code",
   "execution_count": 253,
   "id": "227623c4",
   "metadata": {},
   "outputs": [
    {
     "data": {
      "text/html": [
       "<div>\n",
       "<style scoped>\n",
       "    .dataframe tbody tr th:only-of-type {\n",
       "        vertical-align: middle;\n",
       "    }\n",
       "\n",
       "    .dataframe tbody tr th {\n",
       "        vertical-align: top;\n",
       "    }\n",
       "\n",
       "    .dataframe thead th {\n",
       "        text-align: right;\n",
       "    }\n",
       "</style>\n",
       "<table border=\"1\" class=\"dataframe\">\n",
       "  <thead>\n",
       "    <tr style=\"text-align: right;\">\n",
       "      <th></th>\n",
       "      <th>Product_ID</th>\n",
       "      <th>Product_Name</th>\n",
       "      <th>Product_Category</th>\n",
       "      <th>Product_Cost</th>\n",
       "      <th>Product_Price</th>\n",
       "      <th>Product_Profit</th>\n",
       "    </tr>\n",
       "  </thead>\n",
       "  <tbody>\n",
       "    <tr>\n",
       "      <th>0</th>\n",
       "      <td>1</td>\n",
       "      <td>Action Figure</td>\n",
       "      <td>Toys</td>\n",
       "      <td>9.99</td>\n",
       "      <td>15.99</td>\n",
       "      <td>6.0</td>\n",
       "    </tr>\n",
       "    <tr>\n",
       "      <th>1</th>\n",
       "      <td>2</td>\n",
       "      <td>Animal Figures</td>\n",
       "      <td>Toys</td>\n",
       "      <td>9.99</td>\n",
       "      <td>12.99</td>\n",
       "      <td>3.0</td>\n",
       "    </tr>\n",
       "    <tr>\n",
       "      <th>2</th>\n",
       "      <td>3</td>\n",
       "      <td>Barrel O' Slime</td>\n",
       "      <td>Art &amp; Crafts</td>\n",
       "      <td>1.99</td>\n",
       "      <td>3.99</td>\n",
       "      <td>2.0</td>\n",
       "    </tr>\n",
       "    <tr>\n",
       "      <th>3</th>\n",
       "      <td>4</td>\n",
       "      <td>Chutes &amp; Ladders</td>\n",
       "      <td>Games</td>\n",
       "      <td>9.99</td>\n",
       "      <td>12.99</td>\n",
       "      <td>3.0</td>\n",
       "    </tr>\n",
       "    <tr>\n",
       "      <th>4</th>\n",
       "      <td>5</td>\n",
       "      <td>Classic Dominoes</td>\n",
       "      <td>Games</td>\n",
       "      <td>7.99</td>\n",
       "      <td>9.99</td>\n",
       "      <td>2.0</td>\n",
       "    </tr>\n",
       "  </tbody>\n",
       "</table>\n",
       "</div>"
      ],
      "text/plain": [
       "   Product_ID      Product_Name Product_Category  Product_Cost  Product_Price  \\\n",
       "0           1     Action Figure             Toys          9.99          15.99   \n",
       "1           2    Animal Figures             Toys          9.99          12.99   \n",
       "2           3   Barrel O' Slime     Art & Crafts          1.99           3.99   \n",
       "3           4  Chutes & Ladders            Games          9.99          12.99   \n",
       "4           5  Classic Dominoes            Games          7.99           9.99   \n",
       "\n",
       "   Product_Profit  \n",
       "0             6.0  \n",
       "1             3.0  \n",
       "2             2.0  \n",
       "3             3.0  \n",
       "4             2.0  "
      ]
     },
     "execution_count": 253,
     "metadata": {},
     "output_type": "execute_result"
    }
   ],
   "source": [
    "#add profit column\n",
    "products[\"Product_Profit\"] = products[\"Product_Price\"] - products[\"Product_Cost\"]\n",
    "products[[\"Product_Profit\"]]\n",
    "products.head()"
   ]
  },
  {
   "cell_type": "code",
   "execution_count": 231,
   "id": "7c616844",
   "metadata": {},
   "outputs": [
    {
     "data": {
      "text/plain": [
       "Toys                 9\n",
       "Art & Crafts         8\n",
       "Games                8\n",
       "Sports & Outdoors    7\n",
       "Electronics          3\n",
       "Name: Product_Category, dtype: int64"
      ]
     },
     "execution_count": 231,
     "metadata": {},
     "output_type": "execute_result"
    }
   ],
   "source": [
    "#acsertain product categories\n",
    "\n",
    "products['Product_Category'].value_counts()"
   ]
  },
  {
   "cell_type": "code",
   "execution_count": 247,
   "id": "1967d5a5",
   "metadata": {},
   "outputs": [
    {
     "data": {
      "text/html": [
       "<div>\n",
       "<style scoped>\n",
       "    .dataframe tbody tr th:only-of-type {\n",
       "        vertical-align: middle;\n",
       "    }\n",
       "\n",
       "    .dataframe tbody tr th {\n",
       "        vertical-align: top;\n",
       "    }\n",
       "\n",
       "    .dataframe thead th {\n",
       "        text-align: right;\n",
       "    }\n",
       "</style>\n",
       "<table border=\"1\" class=\"dataframe\">\n",
       "  <thead>\n",
       "    <tr style=\"text-align: right;\">\n",
       "      <th></th>\n",
       "      <th>Product_Price</th>\n",
       "      <th>Product_Cost</th>\n",
       "    </tr>\n",
       "    <tr>\n",
       "      <th>Product_Category</th>\n",
       "      <th></th>\n",
       "      <th></th>\n",
       "    </tr>\n",
       "  </thead>\n",
       "  <tbody>\n",
       "    <tr>\n",
       "      <th>Toys</th>\n",
       "      <td>143.91</td>\n",
       "      <td>104.91</td>\n",
       "    </tr>\n",
       "    <tr>\n",
       "      <th>Sports &amp; Outdoors</th>\n",
       "      <td>106.93</td>\n",
       "      <td>71.93</td>\n",
       "    </tr>\n",
       "    <tr>\n",
       "      <th>Art &amp; Crafts</th>\n",
       "      <td>104.92</td>\n",
       "      <td>71.92</td>\n",
       "    </tr>\n",
       "    <tr>\n",
       "      <th>Games</th>\n",
       "      <td>98.92</td>\n",
       "      <td>66.92</td>\n",
       "    </tr>\n",
       "    <tr>\n",
       "      <th>Electronics</th>\n",
       "      <td>61.97</td>\n",
       "      <td>42.97</td>\n",
       "    </tr>\n",
       "  </tbody>\n",
       "</table>\n",
       "</div>"
      ],
      "text/plain": [
       "                   Product_Price  Product_Cost\n",
       "Product_Category                              \n",
       "Toys                      143.91        104.91\n",
       "Sports & Outdoors         106.93         71.93\n",
       "Art & Crafts              104.92         71.92\n",
       "Games                      98.92         66.92\n",
       "Electronics                61.97         42.97"
      ]
     },
     "execution_count": 247,
     "metadata": {},
     "output_type": "execute_result"
    }
   ],
   "source": [
    "#Use groupby to find sum of all values in porduct cost and product price for each category in descending order\n",
    "products.groupby(\"Product_Category\")[[\"Product_Price\", \"Product_Cost\"]].sum().sort_values(by=\"Product_Price\", ascending=False)"
   ]
  },
  {
   "cell_type": "code",
   "execution_count": 255,
   "id": "5356e251",
   "metadata": {},
   "outputs": [
    {
     "data": {
      "text/html": [
       "<div>\n",
       "<style scoped>\n",
       "    .dataframe tbody tr th:only-of-type {\n",
       "        vertical-align: middle;\n",
       "    }\n",
       "\n",
       "    .dataframe tbody tr th {\n",
       "        vertical-align: top;\n",
       "    }\n",
       "\n",
       "    .dataframe thead th {\n",
       "        text-align: right;\n",
       "    }\n",
       "</style>\n",
       "<table border=\"1\" class=\"dataframe\">\n",
       "  <thead>\n",
       "    <tr style=\"text-align: right;\">\n",
       "      <th></th>\n",
       "      <th>mean</th>\n",
       "      <th>median</th>\n",
       "    </tr>\n",
       "    <tr>\n",
       "      <th>Product_Category</th>\n",
       "      <th></th>\n",
       "      <th></th>\n",
       "    </tr>\n",
       "  </thead>\n",
       "  <tbody>\n",
       "    <tr>\n",
       "      <th>Art &amp; Crafts</th>\n",
       "      <td>4.125000</td>\n",
       "      <td>3.0</td>\n",
       "    </tr>\n",
       "    <tr>\n",
       "      <th>Electronics</th>\n",
       "      <td>6.333333</td>\n",
       "      <td>6.0</td>\n",
       "    </tr>\n",
       "    <tr>\n",
       "      <th>Games</th>\n",
       "      <td>4.000000</td>\n",
       "      <td>3.5</td>\n",
       "    </tr>\n",
       "    <tr>\n",
       "      <th>Sports &amp; Outdoors</th>\n",
       "      <td>5.000000</td>\n",
       "      <td>3.0</td>\n",
       "    </tr>\n",
       "    <tr>\n",
       "      <th>Toys</th>\n",
       "      <td>4.333333</td>\n",
       "      <td>4.0</td>\n",
       "    </tr>\n",
       "  </tbody>\n",
       "</table>\n",
       "</div>"
      ],
      "text/plain": [
       "                       mean  median\n",
       "Product_Category                   \n",
       "Art & Crafts       4.125000     3.0\n",
       "Electronics        6.333333     6.0\n",
       "Games              4.000000     3.5\n",
       "Sports & Outdoors  5.000000     3.0\n",
       "Toys               4.333333     4.0"
      ]
     },
     "execution_count": 255,
     "metadata": {},
     "output_type": "execute_result"
    }
   ],
   "source": [
    "#group proucts by category and calculate both average and median profit\n",
    "profit_by_category = products.groupby(\"Product_Category\")[\"Product_Profit\"].agg([\"mean\", \"median\"])\n",
    "profit_by_category"
   ]
  },
  {
   "cell_type": "markdown",
   "id": "f7b932e4",
   "metadata": {},
   "source": [
    "## Pandas Function\n",
    "\n",
    "1. concat(): combines data either by adding it horizontally as new columns for existing rows, or vertically as new rows for existing columns.\n",
    "2. merge(): joins tow dataframe together; it only combines data by extending along axis one horizontally."
   ]
  },
  {
   "cell_type": "markdown",
   "id": "96e6c41d",
   "metadata": {},
   "source": [
    "## The End\n",
    "\n",
    "Feel free to visist Coursera to learn more about the course: **Google Advanced Data Analytics Certificate**"
   ]
  }
 ],
 "metadata": {
  "kernelspec": {
   "display_name": "Python 3 (ipykernel)",
   "language": "python",
   "name": "python3"
  },
  "language_info": {
   "codemirror_mode": {
    "name": "ipython",
    "version": 3
   },
   "file_extension": ".py",
   "mimetype": "text/x-python",
   "name": "python",
   "nbconvert_exporter": "python",
   "pygments_lexer": "ipython3",
   "version": "3.9.15"
  }
 },
 "nbformat": 4,
 "nbformat_minor": 5
}
